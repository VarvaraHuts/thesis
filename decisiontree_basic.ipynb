{
 "cells": [
  {
   "cell_type": "code",
   "execution_count": 1,
   "metadata": {
    "collapsed": true
   },
   "outputs": [],
   "source": [
    "import numpy as np\n",
    "import pandas as pd\n",
    "from sklearn.model_selection import KFold\n",
    "from sklearn import preprocessing\n",
    "from sklearn.tree import DecisionTreeClassifier\n",
    "from sklearn.metrics import classification_report"
   ]
  },
  {
   "cell_type": "code",
   "execution_count": 2,
   "metadata": {
    "collapsed": true
   },
   "outputs": [],
   "source": [
    "kf = KFold(n_splits=3, shuffle=True)"
   ]
  },
  {
   "cell_type": "code",
   "execution_count": 3,
   "metadata": {
    "collapsed": true
   },
   "outputs": [],
   "source": [
    "le = preprocessing.LabelEncoder()"
   ]
  },
  {
   "cell_type": "code",
   "execution_count": 4,
   "metadata": {
    "collapsed": true
   },
   "outputs": [],
   "source": [
    "clf = DecisionTreeClassifier(max_depth=10)"
   ]
  },
  {
   "cell_type": "code",
   "execution_count": 5,
   "metadata": {
    "collapsed": true
   },
   "outputs": [],
   "source": [
    "file = open(\"C:/Users/1/Desktop/checked_compounds_final.txt\", \"r\", encoding=\"utf-8\")\n",
    "lines = file.readlines()"
   ]
  },
  {
   "cell_type": "code",
   "execution_count": 6,
   "metadata": {
    "collapsed": true
   },
   "outputs": [],
   "source": [
    "#no suffixes\n",
    "vectors = []\n",
    "types = []\n",
    "\n",
    "for line in lines:\n",
    "    arr = []\n",
    "    line = line.strip(\"\\n\")\n",
    "    items = line.split(\"/\")\n",
    "    items_new = items[1:3] + items[4:6] + [items[7]]\n",
    "    for item in items_new:\n",
    "        arr.append(item)\n",
    "    types.append(items[-1])\n",
    "    vectors.append(arr)"
   ]
  },
  {
   "cell_type": "code",
   "execution_count": 7,
   "metadata": {},
   "outputs": [
    {
     "name": "stdout",
     "output_type": "stream",
     "text": [
      "['Abend', '<NN>', 'Brot', '<+NN>', 'no']\n",
      "['Abend', '<NN>', 'Dämmerung', '<+NN>', 'no']\n",
      "['Abend', '<NN>', 'Essen', '<+NN>', 'no']\n",
      "['Abend', '<NN>', 'Licht', '<+NN>', 'no']\n",
      "['Abend', '<NN>', 'Lied', '<+NN>', 'no']\n"
     ]
    }
   ],
   "source": [
    "for vector in vectors[:5]:\n",
    "    print (vector)"
   ]
  },
  {
   "cell_type": "code",
   "execution_count": 8,
   "metadata": {},
   "outputs": [
    {
     "data": {
      "text/plain": [
       "3"
      ]
     },
     "execution_count": 8,
     "metadata": {},
     "output_type": "execute_result"
    }
   ],
   "source": [
    "X = np.array(vectors)\n",
    "y = np.array(types)\n",
    "kf.get_n_splits(X)"
   ]
  },
  {
   "cell_type": "code",
   "execution_count": 9,
   "metadata": {},
   "outputs": [
    {
     "name": "stdout",
     "output_type": "stream",
     "text": [
      "[ 0.37231463  0.01702004  0.4790844   0.02237402  0.10920692]\n",
      "[ 0.38822076  0.01804784  0.42858596  0.04471428  0.12043116]\n",
      "[ 0.43142339  0.01037035  0.40605862  0.02078712  0.13136052]\n",
      "             precision    recall  f1-score   support\n",
      "\n",
      "          0       0.42      0.46      0.44      1099\n",
      "          1       0.43      0.51      0.47      1116\n",
      "          2       0.24      0.08      0.12       478\n",
      "\n",
      "avg / total       0.39      0.41      0.39      2693\n",
      "\n"
     ]
    }
   ],
   "source": [
    "all_predicts = []\n",
    "tests = []\n",
    "\n",
    "for train_index, test_index in kf.split(X):\n",
    "    X_train, X_test = X[train_index], X[test_index]\n",
    "    y_train, y_test = y[train_index], y[test_index]\n",
    "    \n",
    "    X_train_df = pd.DataFrame(X_train)\n",
    "    y_train_df = pd.DataFrame(y_train)\n",
    "    X_test_df = pd.DataFrame(X_test)\n",
    "    y_test_df = pd.DataFrame(y_test)\n",
    "    \n",
    "    X_train_df_DT = X_train_df.apply(le.fit_transform)\n",
    "    y_train_df_DT = y_train_df.apply(le.fit_transform)  \n",
    "    X_test_df_DT = X_test_df.apply(le.fit_transform)\n",
    "    y_test_df_DT = y_test_df.apply(le.fit_transform)\n",
    "    y_test_df_DT = y_test_df_DT[0].values.tolist()\n",
    "    \n",
    "    clf = clf.fit(X_train_df_DT, y_train_df_DT)\n",
    "    importances = clf.feature_importances_\n",
    "    print (importances)\n",
    "    \n",
    "    predictions = clf.predict(X_test_df_DT)\n",
    "    all_predicts.extend(predictions)\n",
    "    tests.extend(y_test_df_DT)\n",
    "    \n",
    "print(classification_report(tests, all_predicts))"
   ]
  },
  {
   "cell_type": "code",
   "execution_count": 10,
   "metadata": {
    "collapsed": true
   },
   "outputs": [],
   "source": [
    "#with suffixes\n",
    "vectors = []\n",
    "types = []\n",
    "\n",
    "for line in lines:\n",
    "    arr = []\n",
    "    line = line.strip(\"\\n\")\n",
    "    items = line.split(\"/\")\n",
    "    items_new = items[1:8]\n",
    "    for item in items_new:\n",
    "        arr.append(item)\n",
    "    types.append(items[-1])\n",
    "    vectors.append(arr)"
   ]
  },
  {
   "cell_type": "code",
   "execution_count": 11,
   "metadata": {},
   "outputs": [
    {
     "name": "stdout",
     "output_type": "stream",
     "text": [
      "['Abend', '<NN>', 'no', 'Brot', '<+NN>', 'no', 'no']\n",
      "['Abend', '<NN>', 'no', 'Dämmerung', '<+NN>', 'no', 'no']\n",
      "['Abend', '<NN>', 'no', 'Essen', '<+NN>', 'no', 'no']\n",
      "['Abend', '<NN>', 'no', 'Licht', '<+NN>', 'no', 'no']\n",
      "['Abend', '<NN>', 'no', 'Lied', '<+NN>', 'no', 'no']\n"
     ]
    }
   ],
   "source": [
    "for vector in vectors[:5]:\n",
    "    print (vector)"
   ]
  },
  {
   "cell_type": "code",
   "execution_count": 12,
   "metadata": {},
   "outputs": [
    {
     "data": {
      "text/plain": [
       "3"
      ]
     },
     "execution_count": 12,
     "metadata": {},
     "output_type": "execute_result"
    }
   ],
   "source": [
    "X = np.array(vectors)\n",
    "y = np.array(types)\n",
    "kf.get_n_splits(X)"
   ]
  },
  {
   "cell_type": "code",
   "execution_count": 13,
   "metadata": {},
   "outputs": [
    {
     "name": "stdout",
     "output_type": "stream",
     "text": [
      "[ 0.4784507   0.0118924   0.00679543  0.41397329  0.01901232  0.00303167\n",
      "  0.0668442 ]\n",
      "[ 0.3782516   0.05414304  0.00424382  0.38244322  0.02541543  0.00853833\n",
      "  0.14696457]\n",
      "[ 0.44683916  0.01789687  0.          0.38977264  0.03856766  0.01048998\n",
      "  0.09643368]\n",
      "             precision    recall  f1-score   support\n",
      "\n",
      "          0       0.41      0.30      0.35      1099\n",
      "          1       0.44      0.67      0.53      1116\n",
      "          2       0.22      0.09      0.13       478\n",
      "\n",
      "avg / total       0.39      0.42      0.38      2693\n",
      "\n"
     ]
    }
   ],
   "source": [
    "all_predicts = []\n",
    "tests = []\n",
    "\n",
    "for train_index, test_index in kf.split(X):\n",
    "    X_train, X_test = X[train_index], X[test_index]\n",
    "    y_train, y_test = y[train_index], y[test_index]\n",
    "    \n",
    "    X_train_df = pd.DataFrame(X_train)\n",
    "    y_train_df = pd.DataFrame(y_train)\n",
    "    X_test_df = pd.DataFrame(X_test)\n",
    "    y_test_df = pd.DataFrame(y_test)\n",
    "    \n",
    "    X_train_df_DT = X_train_df.apply(le.fit_transform)\n",
    "    y_train_df_DT = y_train_df.apply(le.fit_transform)  \n",
    "    X_test_df_DT = X_test_df.apply(le.fit_transform)\n",
    "    y_test_df_DT = y_test_df.apply(le.fit_transform)\n",
    "    y_test_df_DT = y_test_df_DT[0].values.tolist()\n",
    "    \n",
    "    clf = clf.fit(X_train_df_DT, y_train_df_DT)\n",
    "    importances = clf.feature_importances_\n",
    "    print (importances)\n",
    "    \n",
    "    predictions = clf.predict(X_test_df_DT)\n",
    "    all_predicts.extend(predictions)\n",
    "    tests.extend(y_test_df_DT)\n",
    "    \n",
    "print(classification_report(tests, all_predicts))"
   ]
  }
 ],
 "metadata": {
  "kernelspec": {
   "display_name": "Python 3",
   "language": "python",
   "name": "python3"
  },
  "language_info": {
   "codemirror_mode": {
    "name": "ipython",
    "version": 3
   },
   "file_extension": ".py",
   "mimetype": "text/x-python",
   "name": "python",
   "nbconvert_exporter": "python",
   "pygments_lexer": "ipython3",
   "version": "3.6.1"
  }
 },
 "nbformat": 4,
 "nbformat_minor": 2
}
