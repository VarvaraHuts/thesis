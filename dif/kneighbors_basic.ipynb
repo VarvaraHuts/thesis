{
 "cells": [
  {
   "cell_type": "code",
   "execution_count": 1,
   "metadata": {
    "collapsed": true
   },
   "outputs": [],
   "source": [
    "import numpy as np\n",
    "import pandas as pd\n",
    "from sklearn.model_selection import KFold\n",
    "from sklearn import preprocessing\n",
    "from sklearn.neighbors import KNeighborsClassifier\n",
    "from sklearn.metrics import classification_report"
   ]
  },
  {
   "cell_type": "code",
   "execution_count": 2,
   "metadata": {
    "collapsed": true
   },
   "outputs": [],
   "source": [
    "kf = KFold(n_splits=3, shuffle=True)"
   ]
  },
  {
   "cell_type": "code",
   "execution_count": 3,
   "metadata": {
    "collapsed": true
   },
   "outputs": [],
   "source": [
    "le = preprocessing.LabelEncoder()"
   ]
  },
  {
   "cell_type": "code",
   "execution_count": 4,
   "metadata": {
    "collapsed": true
   },
   "outputs": [],
   "source": [
    "clf = KNeighborsClassifier(n_neighbors=20, p=1)"
   ]
  },
  {
   "cell_type": "code",
   "execution_count": 5,
   "metadata": {
    "collapsed": true
   },
   "outputs": [],
   "source": [
    "file = open(\"C:/Users/1/Desktop/compounds_final.txt\", \"r\", encoding=\"utf-8\")\n",
    "lines = file.readlines()"
   ]
  },
  {
   "cell_type": "code",
   "execution_count": 6,
   "metadata": {
    "collapsed": true
   },
   "outputs": [],
   "source": [
    "#no suffixes\n",
    "vectors = []\n",
    "types = []\n",
    "\n",
    "for line in lines:\n",
    "    arr = []\n",
    "    line = line.strip(\"\\n\")\n",
    "    items = line.split(\"/\")\n",
    "    items_new = items[1:3] + items[4:6] + [items[8]]\n",
    "    for item in items_new:\n",
    "        arr.append(item)\n",
    "    types.append(items[-1])\n",
    "    vectors.append(arr)"
   ]
  },
  {
   "cell_type": "code",
   "execution_count": 7,
   "metadata": {},
   "outputs": [
    {
     "name": "stdout",
     "output_type": "stream",
     "text": [
      "['Engel', '<NN>', 'Bild', '<+NN>', 'ангела']\n",
      "['Wolke', '<NN>', 'Schatten', '<+NN>', 'теням']\n",
      "['Sonne', '<NN>', 'Strahl', '<+NN>', 'солнца']\n",
      "['Geist', '<NN>', 'ersehen', '<V>', 'духовидца']\n",
      "['Jugend', '<NN>', 'Zeit', '<+NN>', 'юности']\n"
     ]
    }
   ],
   "source": [
    "for vector in vectors[:5]:\n",
    "    print (vector)"
   ]
  },
  {
   "cell_type": "code",
   "execution_count": 8,
   "metadata": {},
   "outputs": [
    {
     "data": {
      "text/plain": [
       "3"
      ]
     },
     "execution_count": 8,
     "metadata": {},
     "output_type": "execute_result"
    }
   ],
   "source": [
    "X = np.array(vectors)\n",
    "y = np.array(types)\n",
    "kf.get_n_splits(X)"
   ]
  },
  {
   "cell_type": "code",
   "execution_count": 9,
   "metadata": {},
   "outputs": [
    {
     "name": "stderr",
     "output_type": "stream",
     "text": [
      "C:\\ProgramData\\Anaconda3\\lib\\site-packages\\ipykernel_launcher.py:19: DataConversionWarning: A column-vector y was passed when a 1d array was expected. Please change the shape of y to (n_samples, ), for example using ravel().\n"
     ]
    },
    {
     "name": "stdout",
     "output_type": "stream",
     "text": [
      "             precision    recall  f1-score   support\n",
      "\n",
      "          0       0.43      0.67      0.52      1349\n",
      "          1       0.40      0.32      0.35      1250\n",
      "          2       0.18      0.01      0.02       540\n",
      "\n",
      "avg / total       0.37      0.42      0.37      3139\n",
      "\n"
     ]
    }
   ],
   "source": [
    "all_predicts = []\n",
    "tests = []\n",
    "\n",
    "for train_index, test_index in kf.split(X):\n",
    "    X_train, X_test = X[train_index], X[test_index]\n",
    "    y_train, y_test = y[train_index], y[test_index]\n",
    "    \n",
    "    X_train_df = pd.DataFrame(X_train)\n",
    "    y_train_df = pd.DataFrame(y_train)\n",
    "    X_test_df = pd.DataFrame(X_test)\n",
    "    y_test_df = pd.DataFrame(y_test)\n",
    "    \n",
    "    X_train_df_DT = X_train_df.apply(le.fit_transform)\n",
    "    y_train_df_DT = y_train_df.apply(le.fit_transform)  \n",
    "    X_test_df_DT = X_test_df.apply(le.fit_transform)\n",
    "    y_test_df_DT = y_test_df.apply(le.fit_transform)\n",
    "    y_test_df_DT = y_test_df_DT[0].values.tolist()\n",
    "    \n",
    "    clf = clf.fit(X_train_df_DT, y_train_df_DT)\n",
    "    predictions = clf.predict(X_test_df_DT)\n",
    "    all_predicts.extend(predictions)\n",
    "    tests.extend(y_test_df_DT)\n",
    "    \n",
    "print(classification_report(tests, all_predicts))"
   ]
  },
  {
   "cell_type": "code",
   "execution_count": 10,
   "metadata": {
    "collapsed": true
   },
   "outputs": [],
   "source": [
    "#with suffixes\n",
    "vectors = []\n",
    "types = []\n",
    "\n",
    "for line in lines:\n",
    "    arr = []\n",
    "    line = line.strip(\"\\n\")\n",
    "    items = line.split(\"/\")\n",
    "    items_new = items[1:7] + [items[8]]\n",
    "    for item in items_new:\n",
    "        arr.append(item)\n",
    "    types.append(items[-1])\n",
    "    vectors.append(arr)"
   ]
  },
  {
   "cell_type": "code",
   "execution_count": 11,
   "metadata": {},
   "outputs": [
    {
     "name": "stdout",
     "output_type": "stream",
     "text": [
      "['Engel', '<NN>', 'no', 'Bild', '<+NN>', 'no', 'ангела']\n",
      "['Wolke', '<NN>', 'no', 'Schatten', '<+NN>', 'no', 'теням']\n",
      "['Sonne', '<NN>', 'no', 'Strahl', '<+NN>', 'no', 'солнца']\n",
      "['Geist', '<NN>', 'no', 'ersehen', '<V>', 'er', 'духовидца']\n",
      "['Jugend', '<NN>', 'no', 'Zeit', '<+NN>', 'no', 'юности']\n"
     ]
    }
   ],
   "source": [
    "for vector in vectors[:5]:\n",
    "    print (vector)"
   ]
  },
  {
   "cell_type": "code",
   "execution_count": 12,
   "metadata": {},
   "outputs": [
    {
     "data": {
      "text/plain": [
       "3"
      ]
     },
     "execution_count": 12,
     "metadata": {},
     "output_type": "execute_result"
    }
   ],
   "source": [
    "X = np.array(vectors)\n",
    "y = np.array(types)\n",
    "kf.get_n_splits(X)"
   ]
  },
  {
   "cell_type": "code",
   "execution_count": 13,
   "metadata": {},
   "outputs": [
    {
     "name": "stderr",
     "output_type": "stream",
     "text": [
      "C:\\ProgramData\\Anaconda3\\lib\\site-packages\\ipykernel_launcher.py:19: DataConversionWarning: A column-vector y was passed when a 1d array was expected. Please change the shape of y to (n_samples, ), for example using ravel().\n"
     ]
    },
    {
     "name": "stdout",
     "output_type": "stream",
     "text": [
      "             precision    recall  f1-score   support\n",
      "\n",
      "          0       0.43      0.67      0.53      1349\n",
      "          1       0.41      0.34      0.37      1250\n",
      "          2       0.21      0.01      0.03       540\n",
      "\n",
      "avg / total       0.39      0.42      0.38      3139\n",
      "\n"
     ]
    }
   ],
   "source": [
    "all_predicts = []\n",
    "tests = []\n",
    "\n",
    "for train_index, test_index in kf.split(X):\n",
    "    X_train, X_test = X[train_index], X[test_index]\n",
    "    y_train, y_test = y[train_index], y[test_index]\n",
    "    \n",
    "    X_train_df = pd.DataFrame(X_train)\n",
    "    y_train_df = pd.DataFrame(y_train)\n",
    "    X_test_df = pd.DataFrame(X_test)\n",
    "    y_test_df = pd.DataFrame(y_test)\n",
    "    \n",
    "    X_train_df_DT = X_train_df.apply(le.fit_transform)\n",
    "    y_train_df_DT = y_train_df.apply(le.fit_transform)  \n",
    "    X_test_df_DT = X_test_df.apply(le.fit_transform)\n",
    "    y_test_df_DT = y_test_df.apply(le.fit_transform)\n",
    "    y_test_df_DT = y_test_df_DT[0].values.tolist()\n",
    "    \n",
    "    clf = clf.fit(X_train_df_DT, y_train_df_DT)\n",
    "    predictions = clf.predict(X_test_df_DT)\n",
    "    all_predicts.extend(predictions)\n",
    "    tests.extend(y_test_df_DT)\n",
    "    \n",
    "print(classification_report(tests, all_predicts))"
   ]
  }
 ],
 "metadata": {
  "kernelspec": {
   "display_name": "Python 3",
   "language": "python",
   "name": "python3"
  },
  "language_info": {
   "codemirror_mode": {
    "name": "ipython",
    "version": 3
   },
   "file_extension": ".py",
   "mimetype": "text/x-python",
   "name": "python",
   "nbconvert_exporter": "python",
   "pygments_lexer": "ipython3",
   "version": "3.6.1"
  }
 },
 "nbformat": 4,
 "nbformat_minor": 2
}
