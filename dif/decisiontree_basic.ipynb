{
 "cells": [
  {
   "cell_type": "code",
   "execution_count": 1,
   "metadata": {
    "collapsed": true
   },
   "outputs": [],
   "source": [
    "import numpy as np\n",
    "import pandas as pd\n",
    "from sklearn.model_selection import KFold\n",
    "from sklearn import preprocessing\n",
    "from sklearn.tree import DecisionTreeClassifier\n",
    "from sklearn.metrics import classification_report"
   ]
  },
  {
   "cell_type": "code",
   "execution_count": 2,
   "metadata": {
    "collapsed": true
   },
   "outputs": [],
   "source": [
    "kf = KFold(n_splits=3, shuffle=True)"
   ]
  },
  {
   "cell_type": "code",
   "execution_count": 3,
   "metadata": {
    "collapsed": true
   },
   "outputs": [],
   "source": [
    "le = preprocessing.LabelEncoder()"
   ]
  },
  {
   "cell_type": "code",
   "execution_count": 4,
   "metadata": {
    "collapsed": true
   },
   "outputs": [],
   "source": [
    "clf = DecisionTreeClassifier(max_depth=10)"
   ]
  },
  {
   "cell_type": "code",
   "execution_count": 5,
   "metadata": {
    "collapsed": true
   },
   "outputs": [],
   "source": [
    "file = open(\"C:/Users/1/Desktop/compounds_final.txt\", \"r\", encoding=\"utf-8\")\n",
    "lines = file.readlines()"
   ]
  },
  {
   "cell_type": "code",
   "execution_count": 6,
   "metadata": {
    "collapsed": true
   },
   "outputs": [],
   "source": [
    "#no suffixes\n",
    "vectors = []\n",
    "types = []\n",
    "\n",
    "for line in lines:\n",
    "    arr = []\n",
    "    line = line.strip(\"\\n\")\n",
    "    items = line.split(\"/\")\n",
    "    items_new = items[1:3] + items[4:6] + [items[7]]\n",
    "    for item in items_new:\n",
    "        arr.append(item)\n",
    "    types.append(items[-1])\n",
    "    vectors.append(arr)"
   ]
  },
  {
   "cell_type": "code",
   "execution_count": 7,
   "metadata": {},
   "outputs": [
    {
     "name": "stdout",
     "output_type": "stream",
     "text": [
      "['Engel', '<NN>', 'Bild', '<+NN>', 's']\n",
      "['Wolke', '<NN>', 'Schatten', '<+NN>', 'n']\n",
      "['Sonne', '<NN>', 'Strahl', '<+NN>', 'n']\n",
      "['Geist', '<NN>', 'ersehen', '<V>', 'er']\n",
      "['Jugend', '<NN>', 'Zeit', '<+NN>', 'no']\n"
     ]
    }
   ],
   "source": [
    "for vector in vectors[:5]:\n",
    "    print (vector)"
   ]
  },
  {
   "cell_type": "code",
   "execution_count": 8,
   "metadata": {},
   "outputs": [
    {
     "data": {
      "text/plain": [
       "3"
      ]
     },
     "execution_count": 8,
     "metadata": {},
     "output_type": "execute_result"
    }
   ],
   "source": [
    "X = np.array(vectors)\n",
    "y = np.array(types)\n",
    "kf.get_n_splits(X)"
   ]
  },
  {
   "cell_type": "code",
   "execution_count": 9,
   "metadata": {},
   "outputs": [
    {
     "name": "stdout",
     "output_type": "stream",
     "text": [
      "[ 0.33379882  0.03902045  0.44940726  0.00520207  0.1725714 ]\n",
      "[ 0.34064693  0.00839895  0.4813406   0.02116293  0.1484506 ]\n",
      "[ 0.39261583  0.03117815  0.44142645  0.0015712   0.13320836]\n",
      "             precision    recall  f1-score   support\n",
      "\n",
      "          0       0.41      0.52      0.46      1349\n",
      "          1       0.38      0.40      0.39      1250\n",
      "          2       0.18      0.05      0.08       540\n",
      "\n",
      "avg / total       0.36      0.39      0.37      3139\n",
      "\n"
     ]
    }
   ],
   "source": [
    "all_predicts = []\n",
    "tests = []\n",
    "\n",
    "for train_index, test_index in kf.split(X):\n",
    "    X_train, X_test = X[train_index], X[test_index]\n",
    "    y_train, y_test = y[train_index], y[test_index]\n",
    "    \n",
    "    X_train_df = pd.DataFrame(X_train)\n",
    "    y_train_df = pd.DataFrame(y_train)\n",
    "    X_test_df = pd.DataFrame(X_test)\n",
    "    y_test_df = pd.DataFrame(y_test)\n",
    "    \n",
    "    X_train_df_DT = X_train_df.apply(le.fit_transform)\n",
    "    y_train_df_DT = y_train_df.apply(le.fit_transform)  \n",
    "    X_test_df_DT = X_test_df.apply(le.fit_transform)\n",
    "    y_test_df_DT = y_test_df.apply(le.fit_transform)\n",
    "    y_test_df_DT = y_test_df_DT[0].values.tolist()\n",
    "    \n",
    "    clf = clf.fit(X_train_df_DT, y_train_df_DT)\n",
    "    importances = clf.feature_importances_\n",
    "    print (importances)\n",
    "    \n",
    "    predictions = clf.predict(X_test_df_DT)\n",
    "    all_predicts.extend(predictions)\n",
    "    tests.extend(y_test_df_DT)\n",
    "    \n",
    "print(classification_report(tests, all_predicts))"
   ]
  },
  {
   "cell_type": "code",
   "execution_count": 10,
   "metadata": {
    "collapsed": true
   },
   "outputs": [],
   "source": [
    "#with suffixes\n",
    "vectors = []\n",
    "types = []\n",
    "\n",
    "for line in lines:\n",
    "    arr = []\n",
    "    line = line.strip(\"\\n\")\n",
    "    items = line.split(\"/\")\n",
    "    items_new = items[1:8]\n",
    "    for item in items_new:\n",
    "        arr.append(item)\n",
    "    types.append(items[-1])\n",
    "    vectors.append(arr)"
   ]
  },
  {
   "cell_type": "code",
   "execution_count": 11,
   "metadata": {},
   "outputs": [
    {
     "name": "stdout",
     "output_type": "stream",
     "text": [
      "['Engel', '<NN>', 'no', 'Bild', '<+NN>', 'no', 's']\n",
      "['Wolke', '<NN>', 'no', 'Schatten', '<+NN>', 'no', 'n']\n",
      "['Sonne', '<NN>', 'no', 'Strahl', '<+NN>', 'no', 'n']\n",
      "['Geist', '<NN>', 'no', 'ersehen', '<V>', 'er', 'er']\n",
      "['Jugend', '<NN>', 'no', 'Zeit', '<+NN>', 'no', 'no']\n"
     ]
    }
   ],
   "source": [
    "for vector in vectors[:5]:\n",
    "    print (vector)"
   ]
  },
  {
   "cell_type": "code",
   "execution_count": 12,
   "metadata": {},
   "outputs": [
    {
     "data": {
      "text/plain": [
       "3"
      ]
     },
     "execution_count": 12,
     "metadata": {},
     "output_type": "execute_result"
    }
   ],
   "source": [
    "X = np.array(vectors)\n",
    "y = np.array(types)\n",
    "kf.get_n_splits(X)"
   ]
  },
  {
   "cell_type": "code",
   "execution_count": 13,
   "metadata": {},
   "outputs": [
    {
     "name": "stdout",
     "output_type": "stream",
     "text": [
      "[ 0.40628065  0.02443647  0.          0.38186015  0.02372573  0.\n",
      "  0.16369701]\n",
      "[ 0.42739787  0.02660666  0.          0.41375604  0.01356122  0.01097234\n",
      "  0.10770588]\n",
      "[ 0.35708952  0.01150144  0.00911303  0.50022701  0.01109016  0.00448831\n",
      "  0.10649053]\n",
      "             precision    recall  f1-score   support\n",
      "\n",
      "          0       0.43      0.39      0.41      1349\n",
      "          1       0.40      0.57      0.47      1250\n",
      "          2       0.19      0.05      0.07       540\n",
      "\n",
      "avg / total       0.38      0.40      0.38      3139\n",
      "\n"
     ]
    }
   ],
   "source": [
    "all_predicts = []\n",
    "tests = []\n",
    "\n",
    "for train_index, test_index in kf.split(X):\n",
    "    X_train, X_test = X[train_index], X[test_index]\n",
    "    y_train, y_test = y[train_index], y[test_index]\n",
    "    \n",
    "    X_train_df = pd.DataFrame(X_train)\n",
    "    y_train_df = pd.DataFrame(y_train)\n",
    "    X_test_df = pd.DataFrame(X_test)\n",
    "    y_test_df = pd.DataFrame(y_test)\n",
    "    \n",
    "    X_train_df_DT = X_train_df.apply(le.fit_transform)\n",
    "    y_train_df_DT = y_train_df.apply(le.fit_transform)  \n",
    "    X_test_df_DT = X_test_df.apply(le.fit_transform)\n",
    "    y_test_df_DT = y_test_df.apply(le.fit_transform)\n",
    "    y_test_df_DT = y_test_df_DT[0].values.tolist()\n",
    "    \n",
    "    clf = clf.fit(X_train_df_DT, y_train_df_DT)\n",
    "    importances = clf.feature_importances_\n",
    "    print (importances)\n",
    "    \n",
    "    predictions = clf.predict(X_test_df_DT)\n",
    "    all_predicts.extend(predictions)\n",
    "    tests.extend(y_test_df_DT)\n",
    "    \n",
    "print(classification_report(tests, all_predicts))"
   ]
  }
 ],
 "metadata": {
  "kernelspec": {
   "display_name": "Python 3",
   "language": "python",
   "name": "python3"
  },
  "language_info": {
   "codemirror_mode": {
    "name": "ipython",
    "version": 3
   },
   "file_extension": ".py",
   "mimetype": "text/x-python",
   "name": "python",
   "nbconvert_exporter": "python",
   "pygments_lexer": "ipython3",
   "version": "3.6.1"
  }
 },
 "nbformat": 4,
 "nbformat_minor": 2
}
