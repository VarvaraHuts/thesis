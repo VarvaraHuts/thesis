{
 "cells": [
  {
   "cell_type": "code",
   "execution_count": 1,
   "metadata": {
    "collapsed": true
   },
   "outputs": [],
   "source": [
    "import numpy as np\n",
    "import pandas as pd\n",
    "from sklearn.model_selection import KFold\n",
    "from sklearn import preprocessing\n",
    "from sklearn.tree import DecisionTreeClassifier\n",
    "from sklearn.metrics import classification_report"
   ]
  },
  {
   "cell_type": "code",
   "execution_count": 2,
   "metadata": {},
   "outputs": [],
   "source": [
    "kf = KFold(n_splits=3, shuffle=True)"
   ]
  },
  {
   "cell_type": "code",
   "execution_count": 3,
   "metadata": {
    "collapsed": true
   },
   "outputs": [],
   "source": [
    "le = preprocessing.LabelEncoder()"
   ]
  },
  {
   "cell_type": "code",
   "execution_count": 4,
   "metadata": {
    "collapsed": true
   },
   "outputs": [],
   "source": [
    "clf = DecisionTreeClassifier(max_depth=10)"
   ]
  },
  {
   "cell_type": "code",
   "execution_count": 5,
   "metadata": {
    "collapsed": true
   },
   "outputs": [],
   "source": [
    "file = open(\"C:/Users/1/Desktop/compounds_final.txt\", \"r\", encoding=\"utf-8\")\n",
    "lines = file.readlines()"
   ]
  },
  {
   "cell_type": "code",
   "execution_count": 6,
   "metadata": {
    "collapsed": true
   },
   "outputs": [],
   "source": [
    "#no suffixes\n",
    "vectors = []\n",
    "types = []\n",
    "\n",
    "for line in lines:\n",
    "    arr = []\n",
    "    line = line.strip(\"\\n\")\n",
    "    items = line.split(\"/\")\n",
    "    items_new = items[1:3] + items[4:6] + [items[7]]\n",
    "    for item in items_new:\n",
    "        arr.append(item)\n",
    "    types.append(items[-1])\n",
    "    vectors.append(arr)"
   ]
  },
  {
   "cell_type": "code",
   "execution_count": 7,
   "metadata": {},
   "outputs": [
    {
     "name": "stdout",
     "output_type": "stream",
     "text": [
      "['Engel', '<NN>', 'Bild', '<+NN>', 's']\n",
      "['Wolke', '<NN>', 'Schatten', '<+NN>', 'n']\n",
      "['Sonne', '<NN>', 'Strahl', '<+NN>', 'n']\n",
      "['Geist', '<NN>', 'ersehen', '<V>', 'er']\n",
      "['Jugend', '<NN>', 'Zeit', '<+NN>', 'no']\n"
     ]
    }
   ],
   "source": [
    "for vector in vectors[:5]:\n",
    "    print (vector)"
   ]
  },
  {
   "cell_type": "code",
   "execution_count": 8,
   "metadata": {},
   "outputs": [
    {
     "data": {
      "text/plain": [
       "3"
      ]
     },
     "execution_count": 8,
     "metadata": {},
     "output_type": "execute_result"
    }
   ],
   "source": [
    "X = np.array(vectors)\n",
    "y = np.array(types)\n",
    "kf.get_n_splits(X)"
   ]
  },
  {
   "cell_type": "code",
   "execution_count": 9,
   "metadata": {},
   "outputs": [
    {
     "name": "stdout",
     "output_type": "stream",
     "text": [
      "[ 0.37110507  0.027628    0.43584084  0.02357708  0.14184901]\n",
      "[ 0.41050803  0.01632727  0.40148012  0.01929686  0.15238772]\n",
      "[ 0.42461464  0.02294884  0.41103772  0.          0.14139879]\n",
      "             precision    recall  f1-score   support\n",
      "\n",
      "          0       0.44      0.55      0.49      1349\n",
      "          1       0.40      0.41      0.41      1250\n",
      "          2       0.22      0.06      0.09       540\n",
      "\n",
      "avg / total       0.39      0.41      0.39      3139\n",
      "\n"
     ]
    }
   ],
   "source": [
    "all_predicts = []\n",
    "tests = []\n",
    "\n",
    "for train_index, test_index in kf.split(X):\n",
    "    X_train, X_test = X[train_index], X[test_index]\n",
    "    y_train, y_test = y[train_index], y[test_index]\n",
    "    \n",
    "    X_train_df = pd.DataFrame(X_train)\n",
    "    y_train_df = pd.DataFrame(y_train)\n",
    "    X_test_df = pd.DataFrame(X_test)\n",
    "    y_test_df = pd.DataFrame(y_test)\n",
    "    \n",
    "    X_train_df_DT = X_train_df.apply(le.fit_transform)\n",
    "    y_train_df_DT = y_train_df.apply(le.fit_transform)  \n",
    "    X_test_df_DT = X_test_df.apply(le.fit_transform)\n",
    "    y_test_df_DT = y_test_df.apply(le.fit_transform)\n",
    "    y_test_df_DT = y_test_df_DT[0].values.tolist()\n",
    "    \n",
    "    clf = clf.fit(X_train_df_DT, y_train_df_DT)\n",
    "    importances = clf.feature_importances_\n",
    "    print (importances)\n",
    "    \n",
    "    predictions = clf.predict(X_test_df_DT)\n",
    "    all_predicts.extend(predictions)\n",
    "    tests.extend(y_test_df_DT)\n",
    "    \n",
    "print(classification_report(tests, all_predicts))"
   ]
  },
  {
   "cell_type": "code",
   "execution_count": 10,
   "metadata": {
    "collapsed": true
   },
   "outputs": [],
   "source": [
    "#with suffixes\n",
    "vectors = []\n",
    "types = []\n",
    "\n",
    "for line in lines:\n",
    "    arr = []\n",
    "    line = line.strip(\"\\n\")\n",
    "    items = line.split(\"/\")\n",
    "    items_new = items[1:8]\n",
    "    for item in items_new:\n",
    "        arr.append(item)\n",
    "    types.append(items[-1])\n",
    "    vectors.append(arr)"
   ]
  },
  {
   "cell_type": "code",
   "execution_count": 11,
   "metadata": {},
   "outputs": [
    {
     "name": "stdout",
     "output_type": "stream",
     "text": [
      "['Engel', '<NN>', 'no', 'Bild', '<+NN>', 'no', 's']\n",
      "['Wolke', '<NN>', 'no', 'Schatten', '<+NN>', 'no', 'n']\n",
      "['Sonne', '<NN>', 'no', 'Strahl', '<+NN>', 'no', 'n']\n",
      "['Geist', '<NN>', 'no', 'ersehen', '<V>', 'er', 'er']\n",
      "['Jugend', '<NN>', 'no', 'Zeit', '<+NN>', 'no', 'no']\n"
     ]
    }
   ],
   "source": [
    "for vector in vectors[:5]:\n",
    "    print (vector)"
   ]
  },
  {
   "cell_type": "code",
   "execution_count": 12,
   "metadata": {},
   "outputs": [
    {
     "data": {
      "text/plain": [
       "3"
      ]
     },
     "execution_count": 12,
     "metadata": {},
     "output_type": "execute_result"
    }
   ],
   "source": [
    "X = np.array(vectors)\n",
    "y = np.array(types)\n",
    "kf.get_n_splits(X)"
   ]
  },
  {
   "cell_type": "code",
   "execution_count": 13,
   "metadata": {},
   "outputs": [
    {
     "name": "stdout",
     "output_type": "stream",
     "text": [
      "[ 0.40212508  0.03108308  0.          0.39549939  0.01437348  0.\n",
      "  0.15691897]\n",
      "[ 0.37283576  0.03524815  0.01272914  0.44107217  0.01305397  0.\n",
      "  0.12506081]\n",
      "[ 0.37906368  0.0141593   0.          0.47341927  0.01782016  0.00932937\n",
      "  0.10620821]\n",
      "             precision    recall  f1-score   support\n",
      "\n",
      "          0       0.43      0.81      0.56      1349\n",
      "          1       0.42      0.17      0.24      1250\n",
      "          2       0.17      0.04      0.06       540\n",
      "\n",
      "avg / total       0.38      0.42      0.35      3139\n",
      "\n"
     ]
    }
   ],
   "source": [
    "all_predicts = []\n",
    "tests = []\n",
    "\n",
    "for train_index, test_index in kf.split(X):\n",
    "    X_train, X_test = X[train_index], X[test_index]\n",
    "    y_train, y_test = y[train_index], y[test_index]\n",
    "    \n",
    "    X_train_df = pd.DataFrame(X_train)\n",
    "    y_train_df = pd.DataFrame(y_train)\n",
    "    X_test_df = pd.DataFrame(X_test)\n",
    "    y_test_df = pd.DataFrame(y_test)\n",
    "    \n",
    "    X_train_df_DT = X_train_df.apply(le.fit_transform)\n",
    "    y_train_df_DT = y_train_df.apply(le.fit_transform)  \n",
    "    X_test_df_DT = X_test_df.apply(le.fit_transform)\n",
    "    y_test_df_DT = y_test_df.apply(le.fit_transform)\n",
    "    y_test_df_DT = y_test_df_DT[0].values.tolist()\n",
    "    \n",
    "    clf = clf.fit(X_train_df_DT, y_train_df_DT)\n",
    "    importances = clf.feature_importances_\n",
    "    print (importances)\n",
    "    \n",
    "    predictions = clf.predict(X_test_df_DT)\n",
    "    all_predicts.extend(predictions)\n",
    "    tests.extend(y_test_df_DT)\n",
    "    \n",
    "print(classification_report(tests, all_predicts))"
   ]
  }
 ],
 "metadata": {
  "kernelspec": {
   "display_name": "Python 3",
   "language": "python",
   "name": "python3"
  },
  "language_info": {
   "codemirror_mode": {
    "name": "ipython",
    "version": 3
   },
   "file_extension": ".py",
   "mimetype": "text/x-python",
   "name": "python",
   "nbconvert_exporter": "python",
   "pygments_lexer": "ipython3",
   "version": "3.6.1"
  }
 },
 "nbformat": 4,
 "nbformat_minor": 2
}
