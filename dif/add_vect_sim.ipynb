{
 "cells": [
  {
   "cell_type": "code",
   "execution_count": 1,
   "metadata": {},
   "outputs": [],
   "source": [
    "s = open(\"C:/Users/1/Desktop/thesis/corpus_final/corpus_new_vect.txt\", \"r\", encoding=\"utf-8\")\n",
    "lines = s.readlines()"
   ]
  },
  {
   "cell_type": "code",
   "execution_count": 2,
   "metadata": {},
   "outputs": [
    {
     "data": {
      "text/plain": [
       "'Mittag/<NN>/no/Essen/<+NN>/no/no/0.328525265279/NN\\n'"
      ]
     },
     "execution_count": 2,
     "metadata": {},
     "output_type": "execute_result"
    }
   ],
   "source": [
    "lines[0]"
   ]
  },
  {
   "cell_type": "code",
   "execution_count": 3,
   "metadata": {
    "collapsed": true
   },
   "outputs": [],
   "source": [
    "z = open(\"C:/Users/1/Desktop/thesis/corpus_final/compounds_final.txt\", \"r\", encoding=\"utf-8\")\n",
    "lines_z = z.readlines()"
   ]
  },
  {
   "cell_type": "code",
   "execution_count": 4,
   "metadata": {},
   "outputs": [
    {
     "data": {
      "text/plain": [
       "'Engelsbild/Engel/<NN>/no/Bild/<+NN>/no/s/ангела/NOUN/accs/no/no/no/no/no/no/N\\n'"
      ]
     },
     "execution_count": 4,
     "metadata": {},
     "output_type": "execute_result"
    }
   ],
   "source": [
    "lines_z[0]"
   ]
  },
  {
   "cell_type": "code",
   "execution_count": 5,
   "metadata": {
    "collapsed": true
   },
   "outputs": [],
   "source": [
    "w = open(\"C:/Users/1/Desktop/thesis/corpus_final/compounds_final_vect.txt\", \"w\", encoding=\"utf-8\")"
   ]
  },
  {
   "cell_type": "code",
   "execution_count": 6,
   "metadata": {},
   "outputs": [],
   "source": [
    "lines_new = []\n",
    "for line_z in lines_z:\n",
    "    items = line_z.split(\"/\")\n",
    "    part1 = items[1]\n",
    "    part2 = items[4]\n",
    "    for line in lines:\n",
    "        if part1 in line and part2 in line:\n",
    "            items2 = line.split(\"/\")\n",
    "            sim = items2[7]\n",
    "    try:\n",
    "        line_new = items[:8] + [str(sim)] + items[8:]\n",
    "        line_new = \"/\".join(line_new)\n",
    "        w.write(line_new)\n",
    "    except:\n",
    "        pass\n",
    "w.close()"
   ]
  }
 ],
 "metadata": {
  "kernelspec": {
   "display_name": "Python 3",
   "language": "python",
   "name": "python3"
  },
  "language_info": {
   "codemirror_mode": {
    "name": "ipython",
    "version": 3
   },
   "file_extension": ".py",
   "mimetype": "text/x-python",
   "name": "python",
   "nbconvert_exporter": "python",
   "pygments_lexer": "ipython3",
   "version": "3.6.1"
  }
 },
 "nbformat": 4,
 "nbformat_minor": 2
}
