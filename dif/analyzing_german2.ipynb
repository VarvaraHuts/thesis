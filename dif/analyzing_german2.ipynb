{
 "cells": [
  {
   "cell_type": "code",
   "execution_count": 1,
   "metadata": {
    "collapsed": true
   },
   "outputs": [],
   "source": [
    "import re"
   ]
  },
  {
   "cell_type": "code",
   "execution_count": 2,
   "metadata": {
    "collapsed": true
   },
   "outputs": [],
   "source": [
    "z = open(\"C:/Users/1/Desktop/thesis/corpus_final/5.txt\", \"r\", encoding=\"utf-8\")\n",
    "lines_z = z.readlines()"
   ]
  },
  {
   "cell_type": "code",
   "execution_count": 3,
   "metadata": {
    "collapsed": true
   },
   "outputs": [],
   "source": [
    "#discarding some analyses\n",
    "tags = ['<NN><SUFF>', '<V><SUFF>', '<ADJ><SUFF>', '<ORD><SUFF>', '<CARD><SUFF>', '<VPART>',]"
   ]
  },
  {
   "cell_type": "code",
   "execution_count": 4,
   "metadata": {},
   "outputs": [],
   "source": [
    "lines_new = []\n",
    "for line in lines_z:\n",
    "    items = line.split(\"/\")\n",
    "    parse = items[1]\n",
    "    \n",
    "    count = 0\n",
    "    for symb in parse:\n",
    "        if symb == '<':\n",
    "            count += 1\n",
    "    \n",
    "    if count < 5:\n",
    "        count2 = 0\n",
    "        for tag in tags:\n",
    "            if tag in parse:\n",
    "                count2 += 1\n",
    "        if count2 == 0:\n",
    "            lines_new.append(line)"
   ]
  },
  {
   "cell_type": "code",
   "execution_count": 5,
   "metadata": {},
   "outputs": [
    {
     "data": {
      "text/plain": [
       "5268"
      ]
     },
     "execution_count": 5,
     "metadata": {},
     "output_type": "execute_result"
    }
   ],
   "source": [
    "len(lines_z)"
   ]
  },
  {
   "cell_type": "code",
   "execution_count": 6,
   "metadata": {},
   "outputs": [
    {
     "data": {
      "text/plain": [
       "5029"
      ]
     },
     "execution_count": 6,
     "metadata": {},
     "output_type": "execute_result"
    }
   ],
   "source": [
    "len(lines_new)"
   ]
  },
  {
   "cell_type": "code",
   "execution_count": 7,
   "metadata": {
    "collapsed": true
   },
   "outputs": [],
   "source": [
    "def get_new_line(line, string):\n",
    "    item_new = []\n",
    "    for item in res:\n",
    "        res1 = re.findall('<.+?>', item)\n",
    "        for tag in res1:\n",
    "            lem = item.replace(tag, '')\n",
    "            item_new.extend([lem,tag])\n",
    "    string_new = \"/\".join(item_new)\n",
    "    line_new = line.replace(string, string_new) \n",
    "    return line_new"
   ]
  },
  {
   "cell_type": "code",
   "execution_count": 8,
   "metadata": {
    "collapsed": true
   },
   "outputs": [],
   "source": [
    "w = open(\"C:/Users/1/Desktop/thesis/corpus_final/6.txt\", \"w\", encoding=\"utf-8\")"
   ]
  },
  {
   "cell_type": "code",
   "execution_count": 9,
   "metadata": {
    "scrolled": true
   },
   "outputs": [],
   "source": [
    "comp3 = []\n",
    "\n",
    "for line in lines_new:\n",
    "    items = line.split(\"/\")\n",
    "    parse = items[1]\n",
    "    \n",
    "    res = re.findall(\".+?<.+?>\", parse)\n",
    "    if '<SUFF>' in parse:\n",
    "        if len(res) == 3:\n",
    "            line_new = get_new_line(line, parse)\n",
    "            w.write(line_new)\n",
    "    else:\n",
    "        if len(res) == 3:\n",
    "            comp3.append(line)  \n",
    "        if len(res) == 2:\n",
    "            line_new = get_new_line(line, parse)\n",
    "            w.write(line_new)\n",
    "            \n",
    "w.close()"
   ]
  },
  {
   "cell_type": "code",
   "execution_count": 10,
   "metadata": {
    "collapsed": true
   },
   "outputs": [],
   "source": [
    "y = open(\"C:/Users/1/Desktop/thesis/corpus_final/comp3.txt\", \"w\", encoding=\"utf-8\")"
   ]
  },
  {
   "cell_type": "code",
   "execution_count": 11,
   "metadata": {
    "collapsed": true
   },
   "outputs": [],
   "source": [
    "for item in comp3:\n",
    "    y.write(item)\n",
    "y.close()"
   ]
  }
 ],
 "metadata": {
  "kernelspec": {
   "display_name": "Python 3",
   "language": "python",
   "name": "python3"
  },
  "language_info": {
   "codemirror_mode": {
    "name": "ipython",
    "version": 3
   },
   "file_extension": ".py",
   "mimetype": "text/x-python",
   "name": "python",
   "nbconvert_exporter": "python",
   "pygments_lexer": "ipython3",
   "version": "3.6.1"
  }
 },
 "nbformat": 4,
 "nbformat_minor": 2
}
