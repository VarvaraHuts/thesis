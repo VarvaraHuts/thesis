{
 "cells": [
  {
   "cell_type": "code",
   "execution_count": 1,
   "metadata": {
    "collapsed": true
   },
   "outputs": [],
   "source": [
    "import pymorphy2"
   ]
  },
  {
   "cell_type": "code",
   "execution_count": 2,
   "metadata": {
    "collapsed": true
   },
   "outputs": [],
   "source": [
    "morph = pymorphy2.MorphAnalyzer()"
   ]
  },
  {
   "cell_type": "code",
   "execution_count": 3,
   "metadata": {
    "collapsed": true
   },
   "outputs": [],
   "source": [
    "z = open(\"C:/Users/1/Desktop/thesis/corpus_final/split2_translated.txt\", \"r\", encoding=\"utf-8\")\n",
    "lines_z = z.readlines()"
   ]
  },
  {
   "cell_type": "code",
   "execution_count": 4,
   "metadata": {
    "collapsed": true
   },
   "outputs": [],
   "source": [
    "s = open(\"C:/Users/1/Desktop/thesis/corpus_final/8.txt\", \"r\", encoding=\"utf-8\")\n",
    "lines_s = s.readlines()"
   ]
  },
  {
   "cell_type": "code",
   "execution_count": 5,
   "metadata": {
    "collapsed": true
   },
   "outputs": [],
   "source": [
    "w = open(\"C:/Users/1/Desktop/thesis/corpus_final/9.txt\", \"w\", encoding=\"utf-8\")"
   ]
  },
  {
   "cell_type": "code",
   "execution_count": 6,
   "metadata": {
    "collapsed": true
   },
   "outputs": [],
   "source": [
    "for line in lines_s:\n",
    "    items = line.split(\"/\")\n",
    "    ind = int(items[-1].strip(\"\\n\"))\n",
    "    items_new = lines_z[ind].split(\"/\")\n",
    "    arr = items_new[3:]\n",
    "    fin = \"/\".join(items[:-1] + arr)\n",
    "    w.write(fin)\n",
    "w.close()"
   ]
  },
  {
   "cell_type": "code",
   "execution_count": 7,
   "metadata": {
    "collapsed": true
   },
   "outputs": [],
   "source": [
    "z = open(\"C:/Users/1/Desktop/thesis/corpus_final/9.txt\", \"r\", encoding=\"utf-8\")\n",
    "lines_z = z.readlines()"
   ]
  },
  {
   "cell_type": "code",
   "execution_count": 8,
   "metadata": {
    "collapsed": true
   },
   "outputs": [],
   "source": [
    "w = open(\"C:/Users/1/Desktop/thesis/corpus_final/10.txt\", \"w\", encoding=\"utf-8\")"
   ]
  },
  {
   "cell_type": "code",
   "execution_count": 9,
   "metadata": {
    "collapsed": true
   },
   "outputs": [],
   "source": [
    "#deleting wrong alignments\n",
    "for line in lines_z:\n",
    "    line = line.strip(\"\\n\")\n",
    "    items = line.split(\"/\")\n",
    "    \n",
    "    rus = []\n",
    "    for item in items:\n",
    "        for letter in item[:1]:\n",
    "            if (letter >= 'а' and letter <='я') or (letter >='А' and letter <='Я'):\n",
    "                rus.append(item)\n",
    "                \n",
    "    rus_new = []\n",
    "    for item in rus:\n",
    "        p = morph.parse(item)[0]\n",
    "        if 'VERB' not in p.tag and 'INFN' not in p.tag and 'GRND' not in p.tag \\\n",
    "        and 'NPRO' not in p.tag and 'ADVB' not in p.tag and 'CONJ' not in p.tag \\\n",
    "        and 'PRCL' not in p.tag and 'PREP' not in p.tag:\n",
    "            rus_new.append(item)\n",
    "        else:\n",
    "            line = line.replace(\"/\" + item, \"\")\n",
    "       \n",
    "    if rus_new != []:\n",
    "        res = []\n",
    "        for item in rus_new:\n",
    "            p = morph.parse(item)\n",
    "            inds = []\n",
    "            for ind in range(len(p)):\n",
    "                anal = str(p[ind][1])\n",
    "                if \"Name\" not in anal:\n",
    "                    inds.append(ind)\n",
    "            if inds != []:\n",
    "                ind_fin = inds[0]\n",
    "                p_fin = morph.parse(item)[ind_fin]\n",
    "                pos = p_fin.tag.POS\n",
    "                case = p_fin.tag.case\n",
    "                if case is not None:\n",
    "                    res.extend([str(pos), str(case)])\n",
    "                else:\n",
    "                    res.extend([str(pos), \"no\"])\n",
    "            else:\n",
    "                res.extend([\"no\", \"no\"])\n",
    "                    \n",
    "        if 'NOUN' in res or 'ADJF' in res:\n",
    "            ress = \"/\".join(res) + \"\\n\"\n",
    "            line_new = line + \"/\" + ress\n",
    "            w.write(line_new)\n",
    "\n",
    "w.close()"
   ]
  }
 ],
 "metadata": {
  "kernelspec": {
   "display_name": "Python 3",
   "language": "python",
   "name": "python3"
  },
  "language_info": {
   "codemirror_mode": {
    "name": "ipython",
    "version": 3
   },
   "file_extension": ".py",
   "mimetype": "text/x-python",
   "name": "python",
   "nbconvert_exporter": "python",
   "pygments_lexer": "ipython3",
   "version": "3.6.1"
  }
 },
 "nbformat": 4,
 "nbformat_minor": 2
}
