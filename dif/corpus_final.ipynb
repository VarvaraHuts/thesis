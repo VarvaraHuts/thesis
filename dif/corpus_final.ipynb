{
 "cells": [
  {
   "cell_type": "code",
   "execution_count": 1,
   "metadata": {
    "collapsed": true
   },
   "outputs": [],
   "source": [
    "s = open(\"C:/Users/1/Desktop/thesis/corpus_final/compounds_train.txt\", \"r\", encoding=\"utf-8\")\n",
    "lines = s.readlines()"
   ]
  },
  {
   "cell_type": "code",
   "execution_count": 2,
   "metadata": {
    "collapsed": true
   },
   "outputs": [],
   "source": [
    "symb = ['ü', 'ö', 'ä', 'Ü', '<']"
   ]
  },
  {
   "cell_type": "code",
   "execution_count": 3,
   "metadata": {
    "collapsed": true
   },
   "outputs": [],
   "source": [
    "w = open(\"C:/Users/1/Desktop/thesis/corpus_final/a.txt\", \"w\", encoding=\"utf-8\")"
   ]
  },
  {
   "cell_type": "code",
   "execution_count": 4,
   "metadata": {
    "collapsed": true
   },
   "outputs": [],
   "source": [
    "#analyzing suffixes\n",
    "for line in lines:\n",
    "    if 'SUFF' in line:\n",
    "        items = line.split(\"/\")\n",
    "        if items[6] == '<SUFF>':\n",
    "            arr1 = items[:3] + [\"no\"] + items[3:6] + items[7:]\n",
    "            arrr1 = \"/\".join(arr1)\n",
    "            w.write(arrr1)\n",
    "        elif items[4] == '<SUFF>':\n",
    "            arr2 = items[:4] + items[5:7] + [\"no\"] + items[7:]\n",
    "            arrr2 = \"/\".join(arr2)\n",
    "            w.write(arrr2)\n",
    "    else:\n",
    "        items2 = line.split(\"/\")\n",
    "        arr3 = items2[:3] + [\"no\"] + items2[3:5] + [\"no\"] + items2[5:]\n",
    "        arrr3 = \"/\".join(arr3)\n",
    "        w.write(arrr3)\n",
    "w.close()"
   ]
  },
  {
   "cell_type": "code",
   "execution_count": 5,
   "metadata": {
    "collapsed": true
   },
   "outputs": [],
   "source": [
    "s = open(\"C:/Users/1/Desktop/thesis/corpus_final/a.txt\", \"r\", encoding=\"utf-8\")\n",
    "lines = s.readlines()"
   ]
  },
  {
   "cell_type": "code",
   "execution_count": 6,
   "metadata": {
    "collapsed": true
   },
   "outputs": [],
   "source": [
    "def decapitalize(word):\n",
    "    if len(word) > 1:\n",
    "        word = word[0].lower() + word[1:]\n",
    "    return word"
   ]
  },
  {
   "cell_type": "code",
   "execution_count": 7,
   "metadata": {
    "collapsed": true
   },
   "outputs": [],
   "source": [
    "w = open(\"C:/Users/1/Desktop/thesis/corpus_final/b.txt\", \"w\", encoding=\"utf-8\")"
   ]
  },
  {
   "cell_type": "code",
   "execution_count": 8,
   "metadata": {},
   "outputs": [],
   "source": [
    "#1, 2 or 3 words in translation\n",
    "for line in lines:\n",
    "    line = line.strip(\"\\n\")\n",
    "    items = line.split(\"/\")\n",
    "    rus = []\n",
    "    for item in items:\n",
    "        for letter in item[:1]:\n",
    "            if (letter >= 'а' and letter <='я') or (letter >='А' and letter <='Я'):\n",
    "                rus.append(item)\n",
    "    if len(rus) == 3:\n",
    "        res = items[:8] + [items[8]] + items[11:13] + [items[9]] + items[13:15] + [items[10]] + items[15:17]\n",
    "        ress = \"/\".join(res)\n",
    "        w.write(ress + \"\\n\")\n",
    "    if len(rus) == 2:\n",
    "        res = items[:8] + [items[8]] + items[10:12] + [items[9]] + items[12:15] + 3 * [\"no\"]\n",
    "        ress = \"/\".join(res)\n",
    "        w.write(ress + \"\\n\")\n",
    "    if len(rus) == 1:\n",
    "        res = items + 6 * [\"no\"]\n",
    "        ress = \"/\".join(res)\n",
    "        w.write(ress + \"\\n\")\n",
    "w.close()"
   ]
  },
  {
   "cell_type": "code",
   "execution_count": 9,
   "metadata": {
    "collapsed": true
   },
   "outputs": [],
   "source": [
    "s = open(\"C:/Users/1/Desktop/thesis/corpus_final/b.txt\", \"r\", encoding=\"utf-8\")\n",
    "lines = s.readlines()"
   ]
  },
  {
   "cell_type": "code",
   "execution_count": 10,
   "metadata": {
    "collapsed": true
   },
   "outputs": [],
   "source": [
    "w = open(\"C:/Users/1/Desktop/thesis/corpus_final/c.txt\", \"w\", encoding=\"utf-8\")"
   ]
  },
  {
   "cell_type": "code",
   "execution_count": 11,
   "metadata": {
    "collapsed": true
   },
   "outputs": [],
   "source": [
    "for line in lines:\n",
    "    items = line.split(\"/\")\n",
    "    if len(items) == 17:\n",
    "        w.write(line)\n",
    "w.close()"
   ]
  },
  {
   "cell_type": "code",
   "execution_count": 12,
   "metadata": {
    "collapsed": true
   },
   "outputs": [],
   "source": [
    "s = open(\"C:/Users/1/Desktop/thesis/corpus_final/c.txt\", \"r\", encoding=\"utf-8\")\n",
    "lines = s.readlines()"
   ]
  },
  {
   "cell_type": "code",
   "execution_count": 13,
   "metadata": {
    "collapsed": true
   },
   "outputs": [],
   "source": [
    "w = open(\"C:/Users/1/Desktop/thesis/corpus_final/compounds_final.txt\", \"w\", encoding=\"utf-8\")"
   ]
  },
  {
   "cell_type": "code",
   "execution_count": 14,
   "metadata": {},
   "outputs": [],
   "source": [
    "#adding types\n",
    "for line in lines:\n",
    "    line = line.strip(\"\\n\")\n",
    "    items = line.split(\"/\")\n",
    "    \n",
    "    arr = []\n",
    "    for item in items:\n",
    "        if item == 'NOUN':\n",
    "            arr.append(item)\n",
    "    \n",
    "    if 'ADJF' in items or 'PRTF' in items:\n",
    "        line_n = line + \"/\" + \"AN\" + \"\\n\"\n",
    "        w.write(line_n)\n",
    "        \n",
    "    elif 'gent' in items and len(arr) > 1 and 'ADJF' not in items and 'PRTF' not in items:\n",
    "        line_n = line + \"/\" + \"NN\" + \"\\n\"\n",
    "        w.write(line_n)\n",
    "        \n",
    "    elif len(arr) > 1 and 'gent' not in items and 'ADJF' not in items and 'PRTF' not in items:\n",
    "        line_n = line + \"/\" + \"N\" + \"\\n\"\n",
    "        w.write(line_n)    \n",
    "    \n",
    "    if len(arr) == 1 and 'ADJF' not in items and 'PRTF' not in items:\n",
    "        line_n = line + \"/\" + \"N\" + \"\\n\"\n",
    "        w.write(line_n)    \n",
    "\n",
    "w.close()"
   ]
  }
 ],
 "metadata": {
  "kernelspec": {
   "display_name": "Python 3",
   "language": "python",
   "name": "python3"
  },
  "language_info": {
   "codemirror_mode": {
    "name": "ipython",
    "version": 3
   },
   "file_extension": ".py",
   "mimetype": "text/x-python",
   "name": "python",
   "nbconvert_exporter": "python",
   "pygments_lexer": "ipython3",
   "version": "3.6.1"
  }
 },
 "nbformat": 4,
 "nbformat_minor": 2
}
