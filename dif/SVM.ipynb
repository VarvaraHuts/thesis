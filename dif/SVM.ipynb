{
 "cells": [
  {
   "cell_type": "code",
   "execution_count": 1,
   "metadata": {
    "collapsed": true
   },
   "outputs": [],
   "source": [
    "import numpy as np\n",
    "import pandas as pd\n",
    "from sklearn.model_selection import KFold\n",
    "from sklearn import preprocessing\n",
    "from sklearn.preprocessing import OneHotEncoder\n",
    "from sklearn import svm\n",
    "from sklearn.metrics import classification_report"
   ]
  },
  {
   "cell_type": "code",
   "execution_count": 2,
   "metadata": {},
   "outputs": [],
   "source": [
    "kf = KFold(n_splits=3, shuffle=True)"
   ]
  },
  {
   "cell_type": "code",
   "execution_count": 3,
   "metadata": {},
   "outputs": [],
   "source": [
    "le = preprocessing.LabelEncoder()\n",
    "enc = OneHotEncoder()"
   ]
  },
  {
   "cell_type": "code",
   "execution_count": 4,
   "metadata": {},
   "outputs": [],
   "source": [
    "clf = svm.SVC(probability=True)"
   ]
  },
  {
   "cell_type": "code",
   "execution_count": 5,
   "metadata": {
    "collapsed": true
   },
   "outputs": [],
   "source": [
    "file = open(\"C:/Users/1/Desktop/compounds_final.txt\", \"r\", encoding=\"utf-8\")\n",
    "lines = file.readlines()"
   ]
  },
  {
   "cell_type": "code",
   "execution_count": 6,
   "metadata": {
    "collapsed": true
   },
   "outputs": [],
   "source": [
    "vectors = []\n",
    "types = []\n",
    "\n",
    "for line in lines:\n",
    "    arr = []\n",
    "    line = line.strip(\"\\n\")\n",
    "    items = line.split(\"/\")\n",
    "    items_new = items[1:5] + items[6:8]\n",
    "    for item in items_new:\n",
    "        arr.append(item)\n",
    "    types.append(items[-1])\n",
    "    vectors.append(arr)"
   ]
  },
  {
   "cell_type": "code",
   "execution_count": 7,
   "metadata": {},
   "outputs": [
    {
     "name": "stdout",
     "output_type": "stream",
     "text": [
      "[['Engel', '<NN>', 'no', 'Bild', 'no', 's'], ['Wolke', '<NN>', 'no', 'Schatten', 'no', 'n'], ['Sonne', '<NN>', 'no', 'Strahl', 'no', 'no']]\n"
     ]
    }
   ],
   "source": [
    "print (vectors[:3])"
   ]
  },
  {
   "cell_type": "code",
   "execution_count": 8,
   "metadata": {},
   "outputs": [
    {
     "data": {
      "text/plain": [
       "3"
      ]
     },
     "execution_count": 8,
     "metadata": {},
     "output_type": "execute_result"
    }
   ],
   "source": [
    "X = np.array(vectors)\n",
    "y = np.array(types)\n",
    "kf.get_n_splits(X)"
   ]
  },
  {
   "cell_type": "code",
   "execution_count": 9,
   "metadata": {},
   "outputs": [],
   "source": [
    "preds_prob = []\n",
    "my_y = []\n",
    "\n",
    "for train_index, test_index in kf.split(X):\n",
    "    X_train, X_test = X[train_index], X[test_index]  \n",
    "    X_all = np.concatenate([X_train, X_test], axis=0)\n",
    "    \n",
    "    columns = []\n",
    "    \n",
    "    for k in range(X_all.shape[1]):\n",
    "        X_df_k = pd.DataFrame(X_all[:,k])\n",
    "        X_df_le = X_df_k.apply(le.fit_transform)\n",
    "        X_enc = enc.fit_transform(X_df_le).toarray()\n",
    "        if X_enc.shape[1] == 2:\n",
    "            X_enc = X_enc[:,0].reshape(-1, 1)\n",
    "        columns.append(X_enc)\n",
    "        \n",
    "    res_X = np.concatenate(columns, axis=1)\n",
    "    res_X_norm = preprocessing.scale(res_X)\n",
    "    \n",
    "    y_train, y_test = y[train_index], y[test_index]\n",
    "    y_all = np.concatenate([y_train, y_test], axis=0)\n",
    "    \n",
    "    y_df = pd.DataFrame(y_all)\n",
    "    y_df_le = y_df.apply(le.fit_transform)\n",
    "    y_enc = enc.fit_transform(y_df_le).toarray()\n",
    "    \n",
    "    y_enc0 = y_enc[:,0]\n",
    "    \n",
    "    my_y = y_enc0\n",
    "    \n",
    "    res_X_train = res_X[:len(X_train), : ]\n",
    "    res_X_test = res_X[len(X_train):, : ]\n",
    "    \n",
    "    y_train = y_enc0[:len(X_train)]\n",
    "    y_test = y_enc0[len(X_train): ]\n",
    "    \n",
    "    clf = clf.fit(res_X_train, y_train)\n",
    "    predictions = clf.predict_proba(res_X_test)\n",
    "    \n",
    "    preds_prob = predictions\n",
    "    \n",
    "    break"
   ]
  },
  {
   "cell_type": "code",
   "execution_count": 10,
   "metadata": {},
   "outputs": [
    {
     "name": "stdout",
     "output_type": "stream",
     "text": [
      "[[ 0.56557769  0.43442231]\n",
      " [ 0.73985108  0.26014892]\n",
      " [ 0.00361542  0.99638458]\n",
      " ..., \n",
      " [ 0.21523257  0.78476743]\n",
      " [ 0.73797308  0.26202692]\n",
      " [ 0.72322972  0.27677028]]\n"
     ]
    }
   ],
   "source": [
    "print (preds_prob)"
   ]
  },
  {
   "cell_type": "code",
   "execution_count": 11,
   "metadata": {},
   "outputs": [
    {
     "name": "stdout",
     "output_type": "stream",
     "text": [
      "[ 0.  0.  0. ...,  1.  0.  0.]\n"
     ]
    }
   ],
   "source": [
    "print (my_y)"
   ]
  },
  {
   "cell_type": "code",
   "execution_count": 12,
   "metadata": {},
   "outputs": [
    {
     "name": "stdout",
     "output_type": "stream",
     "text": [
      "[ 0.  0.  1. ...,  1.  0.  0.]\n"
     ]
    }
   ],
   "source": [
    "my_y_test = my_y[len(my_y)-len(preds_prob) :]\n",
    "print (my_y_test)"
   ]
  },
  {
   "cell_type": "code",
   "execution_count": 13,
   "metadata": {},
   "outputs": [],
   "source": [
    "preds_prob0 = preds_prob[:,0]"
   ]
  },
  {
   "cell_type": "code",
   "execution_count": 14,
   "metadata": {},
   "outputs": [],
   "source": [
    "x = preds_prob0[my_y_test<1]"
   ]
  },
  {
   "cell_type": "code",
   "execution_count": 15,
   "metadata": {},
   "outputs": [
    {
     "data": {
      "image/png": "[encoded data removed]",
      "text/plain": [
       "<matplotlib.figure.Figure at 0x19f48fd0>"
      ]
     },
     "metadata": {},
     "output_type": "display_data"
    }
   ],
   "source": [
    "import matplotlib.pyplot as plt\n",
    "import numpy as np\n",
    "%matplotlib inline\n",
    "plt.hist(x, normed=True, bins=30)\n",
    "plt.ylabel('Probability');"
   ]
  },
  {
   "cell_type": "code",
   "execution_count": 16,
   "metadata": {
    "collapsed": true
   },
   "outputs": [],
   "source": [
    "y = preds_prob0[my_y_test>0]"
   ]
  },
  {
   "cell_type": "code",
   "execution_count": 17,
   "metadata": {},
   "outputs": [
    {
     "data": {
      "image/png": "[encoded data removed]",
      "text/plain": [
       "<matplotlib.figure.Figure at 0xa1cf978>"
      ]
     },
     "metadata": {},
     "output_type": "display_data"
    }
   ],
   "source": [
    "plt.hist(y, normed=True, bins=30)\n",
    "plt.ylabel('Probability');"
   ]
  }
 ],
 "metadata": {
  "kernelspec": {
   "display_name": "Python 3",
   "language": "python",
   "name": "python3"
  },
  "language_info": {
   "codemirror_mode": {
    "name": "ipython",
    "version": 3
   },
   "file_extension": ".py",
   "mimetype": "text/x-python",
   "name": "python",
   "nbconvert_exporter": "python",
   "pygments_lexer": "ipython3",
   "version": "3.6.1"
  }
 },
 "nbformat": 4,
 "nbformat_minor": 2
}
