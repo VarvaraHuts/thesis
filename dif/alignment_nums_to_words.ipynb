{
 "cells": [
  {
   "cell_type": "code",
   "execution_count": 1,
   "metadata": {},
   "outputs": [
    {
     "name": "stdout",
     "output_type": "stream",
     "text": [
      "46259\n"
     ]
    }
   ],
   "source": [
    "s = open(\"C:/Users/1/Desktop/thesis/corpus_final/corpus_de_splitted.txt\", \"r\", encoding=\"utf-8\")\n",
    "lines_s = s.readlines()\n",
    "print (len(lines_s))"
   ]
  },
  {
   "cell_type": "code",
   "execution_count": 2,
   "metadata": {},
   "outputs": [
    {
     "name": "stdout",
     "output_type": "stream",
     "text": [
      "46259\n"
     ]
    }
   ],
   "source": [
    "z = open(\"C:/Users/1/Desktop/thesis/corpus_final/corpus_ru.txt\", \"r\", encoding=\"utf-8\")\n",
    "lines_z = z.readlines()\n",
    "print (len(lines_z))"
   ]
  },
  {
   "cell_type": "code",
   "execution_count": 3,
   "metadata": {},
   "outputs": [
    {
     "name": "stdout",
     "output_type": "stream",
     "text": [
      "46259\n"
     ]
    }
   ],
   "source": [
    "f = open(\"C:/Users/1/Desktop/thesis/corpus_final/results_final.moses\", \"r\", encoding=\"utf-8\")\n",
    "lines_f = f.readlines()\n",
    "print (len(lines_f))"
   ]
  },
  {
   "cell_type": "code",
   "execution_count": 4,
   "metadata": {},
   "outputs": [
    {
     "data": {
      "text/plain": [
       "['Nathanael an Lothar\\n',\n",
       " 'Gewiss seid Ihr alle voll Unruhe\\n',\n",
       " 'dass ich so lange lange nicht geschrieben\\n',\n",
       " 'Mutter zürnt wohl\\n',\n",
       " 'und Clara mag glauben\\n']"
      ]
     },
     "execution_count": 4,
     "metadata": {},
     "output_type": "execute_result"
    }
   ],
   "source": [
    "lines_s[:5]"
   ]
  },
  {
   "cell_type": "code",
   "execution_count": 5,
   "metadata": {},
   "outputs": [
    {
     "data": {
      "text/plain": [
       "['НАТАНАЭЛЬ ЛОТАРУ\\n',\n",
       " 'Вы верно все теперь в ужасном беспокойстве\\n',\n",
       " 'что я так долго-долго не писал\\n',\n",
       " 'Матушка конечно сердится\\n',\n",
       " 'а Клара пожалуй думает\\n']"
      ]
     },
     "execution_count": 5,
     "metadata": {},
     "output_type": "execute_result"
    }
   ],
   "source": [
    "lines_z[:5]"
   ]
  },
  {
   "cell_type": "code",
   "execution_count": 6,
   "metadata": {
    "collapsed": true
   },
   "outputs": [],
   "source": [
    "dic_de = []\n",
    "for line in lines_s:\n",
    "    dic = {}\n",
    "    words = line.split()\n",
    "    for ind in range(len(words)):\n",
    "        dic[ind] = words[ind]\n",
    "    dic_de.append(dic)"
   ]
  },
  {
   "cell_type": "code",
   "execution_count": 7,
   "metadata": {},
   "outputs": [
    {
     "data": {
      "text/plain": [
       "[{0: 'Nathanael', 1: 'an', 2: 'Lothar'}]"
      ]
     },
     "execution_count": 7,
     "metadata": {},
     "output_type": "execute_result"
    }
   ],
   "source": [
    "dic_de[:1]"
   ]
  },
  {
   "cell_type": "code",
   "execution_count": 8,
   "metadata": {
    "collapsed": true
   },
   "outputs": [],
   "source": [
    "dic_ru = []\n",
    "for line in lines_z:\n",
    "    dic = {}\n",
    "    words = line.split()\n",
    "    for ind in range(len(words)):\n",
    "        dic[ind] = words[ind]\n",
    "    dic_ru.append(dic)"
   ]
  },
  {
   "cell_type": "code",
   "execution_count": 9,
   "metadata": {},
   "outputs": [
    {
     "data": {
      "text/plain": [
       "[{0: 'НАТАНАЭЛЬ', 1: 'ЛОТАРУ'}]"
      ]
     },
     "execution_count": 9,
     "metadata": {},
     "output_type": "execute_result"
    }
   ],
   "source": [
    "dic_ru[:1]"
   ]
  },
  {
   "cell_type": "code",
   "execution_count": 10,
   "metadata": {
    "collapsed": true
   },
   "outputs": [],
   "source": [
    "w = open(\"C:/Users/1/Desktop/thesis/corpus_final/results_final.txt\", \"w\", encoding=\"utf-8\")"
   ]
  },
  {
   "cell_type": "code",
   "execution_count": 11,
   "metadata": {
    "collapsed": true
   },
   "outputs": [],
   "source": [
    "for index in range(len(lines_f)):\n",
    "    lin_ger = dic_de[index]\n",
    "    lin_ru = dic_ru[index]\n",
    "    pairs = lines_f[index].split()\n",
    "    pairs_new = []\n",
    "    for pair in pairs:\n",
    "        pair = pair.split(\"-\")\n",
    "        pair_new = []\n",
    "        de_num = pair[0]\n",
    "        ru_num = pair[1]\n",
    "        for k,v in lin_ger.items():\n",
    "            k = str(k)\n",
    "            if de_num == k:\n",
    "                pair_new.append(v)      \n",
    "        for k,v in lin_ru.items():\n",
    "            k = str(k)\n",
    "            if ru_num == k:\n",
    "                pair_new.append(v)\n",
    "        pair_w = \"/\".join(pair_new)\n",
    "        pairs_new.append(pair_w)\n",
    "    line_new = \" \".join(pairs_new)\n",
    "    w.write(line_new+\"\\n\")\n",
    "w.close()"
   ]
  }
 ],
 "metadata": {
  "kernelspec": {
   "display_name": "Python 3",
   "language": "python",
   "name": "python3"
  },
  "language_info": {
   "codemirror_mode": {
    "name": "ipython",
    "version": 3
   },
   "file_extension": ".py",
   "mimetype": "text/x-python",
   "name": "python",
   "nbconvert_exporter": "python",
   "pygments_lexer": "ipython3",
   "version": "3.6.1"
  }
 },
 "nbformat": 4,
 "nbformat_minor": 2
}
