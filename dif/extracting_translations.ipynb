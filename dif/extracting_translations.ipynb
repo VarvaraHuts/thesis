{
 "cells": [
  {
   "cell_type": "code",
   "execution_count": 1,
   "metadata": {
    "collapsed": true
   },
   "outputs": [],
   "source": [
    "s = open(\"C:/Users/1/Desktop/thesis/corpus_final/corpus_aligned.txt\", \"r\", encoding=\"utf-8\")\n",
    "corp = s.readlines()"
   ]
  },
  {
   "cell_type": "code",
   "execution_count": 2,
   "metadata": {},
   "outputs": [],
   "source": [
    "z = open(\"C:/Users/1/Desktop/thesis/corpus_final/split2_new.txt\", \"r\", encoding=\"utf-8\")\n",
    "comps = z.readlines()"
   ]
  },
  {
   "cell_type": "code",
   "execution_count": 3,
   "metadata": {
    "collapsed": true
   },
   "outputs": [],
   "source": [
    "w = open(\"C:/Users/1/Desktop/thesis/corpus_final/x.txt\", \"w\", encoding=\"utf-8\")"
   ]
  },
  {
   "cell_type": "code",
   "execution_count": 4,
   "metadata": {},
   "outputs": [],
   "source": [
    "for line in comps:\n",
    "    line_n = line.strip(\"\\n\")\n",
    "    items = line_n.split(\"/\")\n",
    "    \n",
    "    part1 = items[0]\n",
    "    part2 = items[1]\n",
    "    comp = items[2]\n",
    "    ind = int(items[3])\n",
    "        \n",
    "    sent = corp[ind]\n",
    "    sent_n = sent.strip(\"\\n\")\n",
    "    sent_items = sent_n.split(\" \")\n",
    "    \n",
    "    arr = []\n",
    "    for item in sent_items:\n",
    "        item_n = item.split(\"/\")\n",
    "        de = item_n[0]\n",
    "        ru = item_n[1]\n",
    "        if de == part1 or de == part2:\n",
    "            if ru not in arr:\n",
    "                arr.append(ru)\n",
    "            \n",
    "    if len(arr) == 1:\n",
    "        w.write(comp + \"/\" + part1 + \"/\" + part2 + \"/\" + arr[0] + \"\\n\")\n",
    "    if len(arr) == 2:\n",
    "        w.write(comp + \"/\" + part1 + \"/\" + part2 + \"/\" + arr[0] + \"/\" + arr[1] + \"\\n\")\n",
    "    if len(arr) == 3:\n",
    "        w.write(comp + \"/\" + part1 + \"/\" + part2 + \"/\" + arr[0] + \"/\" + arr[1] + \"/\" + arr[2] + \"\\n\")\n",
    "        \n",
    "w.close()"
   ]
  }
 ],
 "metadata": {
  "kernelspec": {
   "display_name": "Python 3",
   "language": "python",
   "name": "python3"
  },
  "language_info": {
   "codemirror_mode": {
    "name": "ipython",
    "version": 3
   },
   "file_extension": ".py",
   "mimetype": "text/x-python",
   "name": "python",
   "nbconvert_exporter": "python",
   "pygments_lexer": "ipython3",
   "version": "3.6.1"
  }
 },
 "nbformat": 4,
 "nbformat_minor": 2
}
