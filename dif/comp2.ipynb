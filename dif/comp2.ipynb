{
 "cells": [
  {
   "cell_type": "code",
   "execution_count": 1,
   "metadata": {
    "collapsed": true
   },
   "outputs": [],
   "source": [
    "#not normalized distance\n",
    "def dist_not_norm(a,b):\n",
    "    string1 = a[::-1]\n",
    "    string2 = b[::-1]\n",
    "    distance = 0\n",
    "    n1 = len(string1)\n",
    "    n2 = len(string2)\n",
    "    if n1 >= n2:\n",
    "        for i in range(n1):\n",
    "            if i < n2:\n",
    "                if string1[i] == string2[i]:\n",
    "                    distance += 1\n",
    "                else:\n",
    "                    return distance\n",
    "        if distance == n1 and distance == n2:\n",
    "            return 0\n",
    "        else:\n",
    "            return distance\n",
    "    else:\n",
    "        for i in range(n2):\n",
    "            if i < n1:\n",
    "                if string2[i] == string1[i]:\n",
    "                    distance += 1\n",
    "                else:\n",
    "                    return distance\n",
    "        return distance"
   ]
  },
  {
   "cell_type": "code",
   "execution_count": 2,
   "metadata": {
    "collapsed": true
   },
   "outputs": [],
   "source": [
    "#normalized distance\n",
    "def dist(a,b):\n",
    "    return 1-(dist_not_norm(a,b)/((len(a)+len(b))/2))"
   ]
  },
  {
   "cell_type": "code",
   "execution_count": 3,
   "metadata": {
    "collapsed": true
   },
   "outputs": [],
   "source": [
    "#general distance\n",
    "def all_dist(vector_1,vector_2):\n",
    "    cur_dist = 0\n",
    "    for i in range((len(vector_1))):\n",
    "        if i == 0 or i == 3:\n",
    "            ith_dist = dist(vector_1[i], vector_2[i])\n",
    "            cur_dist += ith_dist * ith_dist\n",
    "        else:\n",
    "            if vector_1[i] != vector_2[i]:\n",
    "                cur_dist += 1\n",
    "    return cur_dist"
   ]
  },
  {
   "cell_type": "code",
   "execution_count": 4,
   "metadata": {
    "collapsed": true
   },
   "outputs": [],
   "source": [
    "file = open(\"C:/Users/1/Desktop/thesis/corpus_final/compounds_final.txt\", \"r\", encoding=\"utf-8\")\n",
    "lines = file.readlines()"
   ]
  },
  {
   "cell_type": "code",
   "execution_count": 5,
   "metadata": {
    "collapsed": true
   },
   "outputs": [],
   "source": [
    "matrix = []\n",
    "\n",
    "for line in lines:\n",
    "    arr = []\n",
    "    line = line.strip(\"\\n\")\n",
    "    items = line.split(\"/\")\n",
    "    for item in items[1:8]:\n",
    "        arr.append(item)\n",
    "    matrix.append(arr)"
   ]
  },
  {
   "cell_type": "code",
   "execution_count": 6,
   "metadata": {},
   "outputs": [
    {
     "data": {
      "text/plain": [
       "['Engel', '<NN>', 'no', 'Bild', '<+NN>', 'no', 's']"
      ]
     },
     "execution_count": 6,
     "metadata": {},
     "output_type": "execute_result"
    }
   ],
   "source": [
    "matrix[0]"
   ]
  },
  {
   "cell_type": "code",
   "execution_count": 7,
   "metadata": {},
   "outputs": [
    {
     "data": {
      "text/plain": [
       "['Wolke', '<NN>', 'no', 'Schatten', '<+NN>', 'no', 'n']"
      ]
     },
     "execution_count": 7,
     "metadata": {},
     "output_type": "execute_result"
    }
   ],
   "source": [
    "matrix[1]"
   ]
  },
  {
   "cell_type": "code",
   "execution_count": 8,
   "metadata": {},
   "outputs": [
    {
     "data": {
      "text/plain": [
       "['Sonne', '<NN>', 'no', 'Strahl', '<+NN>', 'no', 'no']"
      ]
     },
     "execution_count": 8,
     "metadata": {},
     "output_type": "execute_result"
    }
   ],
   "source": [
    "matrix[2]"
   ]
  },
  {
   "cell_type": "code",
   "execution_count": 9,
   "metadata": {},
   "outputs": [
    {
     "name": "stdout",
     "output_type": "stream",
     "text": [
      "['Sand', '<NN>', 'no', 'Mann', '<+NN>', 'no', 'no']\n",
      "['Abend', '<NN>', 'no', 'Essen', '<+NN>', 'no', 'no']\n"
     ]
    }
   ],
   "source": [
    "min_dist = 7\n",
    "line = \"string\"\n",
    "for x in range(len(matrix[:10])):\n",
    "    distt = all_dist(matrix[:10][x], matrix[10])\n",
    "    if distt < min_dist:\n",
    "        min_dist = distt\n",
    "        line = matrix[:10][x]\n",
    "print (matrix[10])\n",
    "print (line)"
   ]
  }
 ],
 "metadata": {
  "kernelspec": {
   "display_name": "Python 3",
   "language": "python",
   "name": "python3"
  },
  "language_info": {
   "codemirror_mode": {
    "name": "ipython",
    "version": 3
   },
   "file_extension": ".py",
   "mimetype": "text/x-python",
   "name": "python",
   "nbconvert_exporter": "python",
   "pygments_lexer": "ipython3",
   "version": "3.6.1"
  }
 },
 "nbformat": 4,
 "nbformat_minor": 2
}
