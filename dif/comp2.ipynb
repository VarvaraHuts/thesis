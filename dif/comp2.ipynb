{
 "cells": [
  {
   "cell_type": "code",
   "execution_count": 1,
   "metadata": {
    "collapsed": true
   },
   "outputs": [],
   "source": [
    "import random\n",
    "import operator\n",
    "from sklearn.metrics import classification_report"
   ]
  },
  {
   "cell_type": "code",
   "execution_count": 2,
   "metadata": {
    "collapsed": true
   },
   "outputs": [],
   "source": [
    "#distance between compound parts\n",
    "def dist_not_norm(a,b):\n",
    "    string1 = a[::-1]\n",
    "    string2 = b[::-1]\n",
    "    distance = 0\n",
    "    n1 = len(string1)\n",
    "    n2 = len(string2)\n",
    "    if n1 >= n2:\n",
    "        for i in range(n1):\n",
    "            if i < n2:\n",
    "                if string1[i] == string2[i]:\n",
    "                    distance += 1\n",
    "                else:\n",
    "                    return distance\n",
    "        if distance == n1 and distance == n2:\n",
    "            return 0\n",
    "        else:\n",
    "            return distance\n",
    "    else:\n",
    "        for i in range(n2):\n",
    "            if i < n1:\n",
    "                if string2[i] == string1[i]:\n",
    "                    distance += 1\n",
    "                else:\n",
    "                    return distance\n",
    "        return distance\n",
    "    \n",
    "def dist(a,b):\n",
    "    return 1-(dist_not_norm(a,b)/((len(a)+len(b))/2))"
   ]
  },
  {
   "cell_type": "code",
   "execution_count": 3,
   "metadata": {
    "collapsed": true
   },
   "outputs": [],
   "source": [
    "#general distance between vectors\n",
    "def all_dist(vector_1,vector_2):\n",
    "    cur_dist = 0\n",
    "    for i in range((len(vector_1))):\n",
    "        if i == 0 or i == 3:\n",
    "            ith_dist = dist(vector_1[i], vector_2[i])\n",
    "            cur_dist += ith_dist * ith_dist\n",
    "        else:\n",
    "            if vector_1[i] != vector_2[i]:\n",
    "                cur_dist += 1\n",
    "    return cur_dist"
   ]
  },
  {
   "cell_type": "code",
   "execution_count": 4,
   "metadata": {
    "collapsed": true
   },
   "outputs": [],
   "source": [
    "file = open(\"C:/Users/1/Desktop/thesis/corpus_final/compounds_final.txt\", \"r\", encoding=\"utf-8\")\n",
    "lines = file.readlines()"
   ]
  },
  {
   "cell_type": "code",
   "execution_count": 5,
   "metadata": {
    "collapsed": true
   },
   "outputs": [],
   "source": [
    "matrix = []\n",
    "for line in lines:\n",
    "    vectors = []\n",
    "    types = []\n",
    "    line = line.strip(\"\\n\")\n",
    "    items = line.split(\"/\")\n",
    "    for item in items[1:8]:\n",
    "        vectors.append(item)\n",
    "    types.append(items[-1])\n",
    "    tp = (vectors,types)\n",
    "    matrix.append(tp)"
   ]
  },
  {
   "cell_type": "code",
   "execution_count": 6,
   "metadata": {},
   "outputs": [
    {
     "data": {
      "text/plain": [
       "4749"
      ]
     },
     "execution_count": 6,
     "metadata": {},
     "output_type": "execute_result"
    }
   ],
   "source": [
    "len(matrix)"
   ]
  },
  {
   "cell_type": "code",
   "execution_count": 7,
   "metadata": {
    "collapsed": true
   },
   "outputs": [],
   "source": [
    "random.shuffle(matrix)"
   ]
  },
  {
   "cell_type": "code",
   "execution_count": 8,
   "metadata": {
    "collapsed": true
   },
   "outputs": [],
   "source": [
    "matrix_train = matrix[:3339]\n",
    "matrix_test = matrix[3339:]"
   ]
  },
  {
   "cell_type": "code",
   "execution_count": 9,
   "metadata": {},
   "outputs": [],
   "source": [
    "types_test = []\n",
    "for vector in matrix_test:\n",
    "    types_test.append(vector[1][0])"
   ]
  },
  {
   "cell_type": "code",
   "execution_count": 10,
   "metadata": {},
   "outputs": [],
   "source": [
    "predictions = []\n",
    "for vector in matrix_test:\n",
    "    distances = []\n",
    "    types = []\n",
    "    for x in range(len(matrix_train)):\n",
    "        distance = all_dist(matrix_train[x][0], vector[0])\n",
    "        distances.append(distance)\n",
    "        types.append(matrix_train[x][1])\n",
    "    min_index, min_value = min(enumerate(distances), key=operator.itemgetter(1))\n",
    "    predictions.append(types[min_index][0])"
   ]
  },
  {
   "cell_type": "code",
   "execution_count": 11,
   "metadata": {},
   "outputs": [
    {
     "name": "stdout",
     "output_type": "stream",
     "text": [
      "             precision    recall  f1-score   support\n",
      "\n",
      "         AN       0.38      0.46      0.42       571\n",
      "          N       0.46      0.36      0.41       657\n",
      "         NN       0.14      0.15      0.15       182\n",
      "\n",
      "avg / total       0.39      0.38      0.38      1410\n",
      "\n"
     ]
    }
   ],
   "source": [
    "print(classification_report(types_test, predictions))"
   ]
  }
 ],
 "metadata": {
  "kernelspec": {
   "display_name": "Python 3",
   "language": "python",
   "name": "python3"
  },
  "language_info": {
   "codemirror_mode": {
    "name": "ipython",
    "version": 3
   },
   "file_extension": ".py",
   "mimetype": "text/x-python",
   "name": "python",
   "nbconvert_exporter": "python",
   "pygments_lexer": "ipython3",
   "version": "3.6.1"
  }
 },
 "nbformat": 4,
 "nbformat_minor": 2
}
