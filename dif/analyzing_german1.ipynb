{
 "cells": [
  {
   "cell_type": "code",
   "execution_count": 1,
   "metadata": {
    "collapsed": true
   },
   "outputs": [],
   "source": [
    "from bs4 import BeautifulSoup"
   ]
  },
  {
   "cell_type": "code",
   "execution_count": 2,
   "metadata": {},
   "outputs": [
    {
     "name": "stderr",
     "output_type": "stream",
     "text": [
      "C:\\ProgramData\\Anaconda3\\lib\\site-packages\\bs4\\__init__.py:181: UserWarning: No parser was explicitly specified, so I'm using the best available HTML parser for this system (\"lxml\"). This usually isn't a problem, but if you run this code on another system, or in a different virtual environment, it may use a different parser and behave differently.\n",
      "\n",
      "The code that caused this warning is on line 193 of the file C:\\ProgramData\\Anaconda3\\lib\\runpy.py. To get rid of this warning, change code that looks like this:\n",
      "\n",
      " BeautifulSoup(YOUR_MARKUP})\n",
      "\n",
      "to this:\n",
      "\n",
      " BeautifulSoup(YOUR_MARKUP, \"lxml\")\n",
      "\n",
      "  markup_type=markup_type))\n"
     ]
    }
   ],
   "source": [
    "#SMOR analysis with previously deleted unnecessary tags\n",
    "z = open(\"C:/Users/1/Desktop/thesis/corpus_final/3.txt\", \"r\", encoding=\"utf-8\")\n",
    "z = z.read()\n",
    "soup = BeautifulSoup(z)"
   ]
  },
  {
   "cell_type": "code",
   "execution_count": 3,
   "metadata": {},
   "outputs": [
    {
     "name": "stdout",
     "output_type": "stream",
     "text": [
      "7676\n"
     ]
    }
   ],
   "source": [
    "entries = soup.findAll('entry')\n",
    "print (len(entries))"
   ]
  },
  {
   "cell_type": "code",
   "execution_count": 4,
   "metadata": {
    "collapsed": true
   },
   "outputs": [],
   "source": [
    "w = open(\"C:/Users/1/Desktop/thesis/corpus_final/4.txt\", \"w\", encoding=\"utf-8\")"
   ]
  },
  {
   "cell_type": "code",
   "execution_count": 5,
   "metadata": {
    "collapsed": true
   },
   "outputs": [],
   "source": [
    "#deleting same lines\n",
    "for entry in entries:\n",
    "    lines = str(entry).split(\"\\n\")\n",
    "    lines_new = []\n",
    "    for line in lines:\n",
    "        if line not in lines_new:\n",
    "            lines_new.append(line)\n",
    "            w.write(line+\"\\n\")\n",
    "w.close()"
   ]
  },
  {
   "cell_type": "code",
   "execution_count": 6,
   "metadata": {},
   "outputs": [
    {
     "name": "stderr",
     "output_type": "stream",
     "text": [
      "C:\\ProgramData\\Anaconda3\\lib\\site-packages\\bs4\\__init__.py:181: UserWarning: No parser was explicitly specified, so I'm using the best available HTML parser for this system (\"lxml\"). This usually isn't a problem, but if you run this code on another system, or in a different virtual environment, it may use a different parser and behave differently.\n",
      "\n",
      "The code that caused this warning is on line 193 of the file C:\\ProgramData\\Anaconda3\\lib\\runpy.py. To get rid of this warning, change code that looks like this:\n",
      "\n",
      " BeautifulSoup(YOUR_MARKUP})\n",
      "\n",
      "to this:\n",
      "\n",
      " BeautifulSoup(YOUR_MARKUP, \"lxml\")\n",
      "\n",
      "  markup_type=markup_type))\n"
     ]
    }
   ],
   "source": [
    "z = open(\"C:/Users/1/Desktop/thesis/corpus_final/4.txt\", \"r\", encoding=\"utf-8\")\n",
    "z = z.read()\n",
    "soup = BeautifulSoup(z)"
   ]
  },
  {
   "cell_type": "code",
   "execution_count": 7,
   "metadata": {},
   "outputs": [
    {
     "name": "stdout",
     "output_type": "stream",
     "text": [
      "7676\n"
     ]
    }
   ],
   "source": [
    "entries = soup.findAll('entry')\n",
    "print (len(entries))"
   ]
  },
  {
   "cell_type": "code",
   "execution_count": 8,
   "metadata": {
    "collapsed": true
   },
   "outputs": [],
   "source": [
    "w = open(\"C:/Users/1/Desktop/thesis/corpus_final/5.txt\", \"w\", encoding=\"utf-8\")"
   ]
  },
  {
   "cell_type": "code",
   "execution_count": 9,
   "metadata": {
    "collapsed": true
   },
   "outputs": [],
   "source": [
    "#only noun compounds and priorities for choosing analysis\n",
    "for ind in range(len(entries)):\n",
    "    lines = str(entries[ind]).split(\"\\n\")\n",
    "    comp = lines[0].replace(\"<entry>\", \"\")\n",
    "    \n",
    "    varss = lines[1:-1]\n",
    "    varss1 = []\n",
    "    varss2 = []\n",
    "    \n",
    "    for item in varss:\n",
    "        if \"+NN\" in item:\n",
    "            count = 0\n",
    "            for symb in item:\n",
    "                if symb == \"Н\":\n",
    "                    count += 1\n",
    "            if count == 2:\n",
    "                varss1.append(item)\n",
    "            if count > 2:\n",
    "                varss2.append(item)\n",
    "                \n",
    "    if varss1 != []:\n",
    "        w.write(comp + \"/\" + varss1[0] + \"/\" + str(ind) + \"\\n\")           \n",
    "    if varss2 != []:\n",
    "        varss3 = []\n",
    "        for item in varss2:\n",
    "            if 'NN' in item and '+NN' in item:\n",
    "                varss3.append(item)\n",
    "        \n",
    "        if varss3 != []:\n",
    "            w.write(comp + \"/\" + varss3[0] + \"/\" + str(ind) + \"\\n\")\n",
    "        else:\n",
    "            w.write(comp + \"/\" + varss2[0] + \"/\" + str(ind) + \"\\n\")\n",
    "w.close()"
   ]
  }
 ],
 "metadata": {
  "kernelspec": {
   "display_name": "Python 3",
   "language": "python",
   "name": "python3"
  },
  "language_info": {
   "codemirror_mode": {
    "name": "ipython",
    "version": 3
   },
   "file_extension": ".py",
   "mimetype": "text/x-python",
   "name": "python",
   "nbconvert_exporter": "python",
   "pygments_lexer": "ipython3",
   "version": "3.6.1"
  }
 },
 "nbformat": 4,
 "nbformat_minor": 2
}
