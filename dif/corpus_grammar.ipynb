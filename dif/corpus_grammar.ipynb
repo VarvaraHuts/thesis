{
 "cells": [
  {
   "cell_type": "code",
   "execution_count": 1,
   "metadata": {
    "collapsed": true
   },
   "outputs": [],
   "source": [
    "s = open(\"C:/Users/1/Desktop/new.txt\", \"r\", encoding=\"utf-8\")\n",
    "lines_s = s.readlines()"
   ]
  },
  {
   "cell_type": "code",
   "execution_count": 2,
   "metadata": {
    "collapsed": true
   },
   "outputs": [],
   "source": [
    "w = open(\"C:/Users/1/Desktop/compounds_final_gram.txt\", \"w\", encoding=\"utf-8\")"
   ]
  },
  {
   "cell_type": "code",
   "execution_count": 3,
   "metadata": {},
   "outputs": [],
   "source": [
    "#adding grammar profiles to first components\n",
    "for line in lines_s:\n",
    "    line = line.strip(\"\\n\")\n",
    "    items = line.split(\"/\")\n",
    "    if items[7] == \"no\":\n",
    "        arr = items[:8] + [\"sing_nomn\"] + items[8:-1]\n",
    "        arr = \"/\".join(arr)\n",
    "        w.write(arr + \"\\n\")\n",
    "    if items[7] == \"s\" and items[-1] == \"Fem\":\n",
    "        arr = items[:8] + [\"sing_nomn\"] + items[8:-1]\n",
    "        arr = \"/\".join(arr)\n",
    "        w.write(arr + \"\\n\")\n",
    "    if items[7] == \"-\":\n",
    "        arr = items[:8] + [\"sing_nomn\"] + items[8:-1]\n",
    "        arr = \"/\".join(arr)\n",
    "        w.write(arr + \"\\n\")\n",
    "    if items[7] == \"trunc_N\" or items[7] == \"trunc_add\":\n",
    "        arr = items[:8] + [\"sing_nomn\"] + items[8:-1]\n",
    "        arr = \"/\".join(arr)\n",
    "        w.write(arr + \"\\n\")\n",
    "    if items[7] == \"s\" and items[-1] != \"Fem\":\n",
    "        arr = items[:8] + [\"sing_gent\"] + items[8:-1]\n",
    "        arr = \"/\".join(arr)\n",
    "        w.write(arr + \"\\n\")\n",
    "    if items[7] == \"es\":\n",
    "        arr = items[:8] + [\"sing_gent\"] + items[8:-1]\n",
    "        arr = \"/\".join(arr)\n",
    "        w.write(arr + \"\\n\")\n",
    "    if items[7] == \"n\" or items[7] == \"en\" or items[7] == \"e\" or items[7] == \"er\" or items[7] == \"uml\":\n",
    "        arr = items[:8] + [\"plur_nomn\"] + items[8:-1]\n",
    "        arr = \"/\".join(arr)\n",
    "        w.write(arr + \"\\n\")\n",
    "    if items[7] == \"trunc_V\":\n",
    "        arr = items[:8] + [\"imp\"] + items[8:-1]\n",
    "        arr = \"/\".join(arr)\n",
    "        w.write(arr + \"\\n\")\n",
    "w.close()"
   ]
  }
 ],
 "metadata": {
  "kernelspec": {
   "display_name": "Python 3",
   "language": "python",
   "name": "python3"
  },
  "language_info": {
   "codemirror_mode": {
    "name": "ipython",
    "version": 3
   },
   "file_extension": ".py",
   "mimetype": "text/x-python",
   "name": "python",
   "nbconvert_exporter": "python",
   "pygments_lexer": "ipython3",
   "version": "3.6.1"
  }
 },
 "nbformat": 4,
 "nbformat_minor": 2
}
