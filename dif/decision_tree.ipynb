{
 "cells": [
  {
   "cell_type": "code",
   "execution_count": 1,
   "metadata": {
    "collapsed": true
   },
   "outputs": [],
   "source": [
    "import numpy as np\n",
    "import pandas as pd\n",
    "from sklearn.model_selection import KFold\n",
    "from sklearn import preprocessing\n",
    "from sklearn.tree import DecisionTreeClassifier\n",
    "from sklearn.metrics import classification_report"
   ]
  },
  {
   "cell_type": "code",
   "execution_count": 2,
   "metadata": {
    "collapsed": true
   },
   "outputs": [],
   "source": [
    "kf = KFold(n_splits=3, shuffle=True)"
   ]
  },
  {
   "cell_type": "code",
   "execution_count": 3,
   "metadata": {
    "collapsed": true
   },
   "outputs": [],
   "source": [
    "le = preprocessing.LabelEncoder()"
   ]
  },
  {
   "cell_type": "code",
   "execution_count": 4,
   "metadata": {
    "collapsed": true
   },
   "outputs": [],
   "source": [
    "clf = DecisionTreeClassifier(max_depth=10)"
   ]
  },
  {
   "cell_type": "code",
   "execution_count": 5,
   "metadata": {
    "collapsed": true
   },
   "outputs": [],
   "source": [
    "file = open(\"C:/Users/1/Desktop/compounds_final.txt\", \"r\", encoding=\"utf-8\")\n",
    "lines = file.readlines()"
   ]
  },
  {
   "cell_type": "code",
   "execution_count": 6,
   "metadata": {
    "collapsed": true
   },
   "outputs": [],
   "source": [
    "vectors = []\n",
    "types = []\n",
    "\n",
    "for line in lines:\n",
    "    arr = []\n",
    "    line = line.strip(\"\\n\")\n",
    "    items = line.split(\"/\")\n",
    "    items_new = items[1:5] + items[6:8]\n",
    "    for item in items_new:\n",
    "        arr.append(item)\n",
    "    types.append(items[-1])\n",
    "    vectors.append(arr)"
   ]
  },
  {
   "cell_type": "code",
   "execution_count": 7,
   "metadata": {},
   "outputs": [
    {
     "name": "stdout",
     "output_type": "stream",
     "text": [
      "[['Engel', '<NN>', 'no', 'Bild', 'no', 's'], ['Wolke', '<NN>', 'no', 'Schatten', 'no', 'n'], ['Sonne', '<NN>', 'no', 'Strahl', 'no', 'no']]\n"
     ]
    }
   ],
   "source": [
    "print (vectors[:3])"
   ]
  },
  {
   "cell_type": "code",
   "execution_count": 8,
   "metadata": {},
   "outputs": [
    {
     "data": {
      "text/plain": [
       "3"
      ]
     },
     "execution_count": 8,
     "metadata": {},
     "output_type": "execute_result"
    }
   ],
   "source": [
    "X = np.array(vectors)\n",
    "y = np.array(types)\n",
    "kf.get_n_splits(X)"
   ]
  },
  {
   "cell_type": "code",
   "execution_count": 9,
   "metadata": {},
   "outputs": [
    {
     "name": "stdout",
     "output_type": "stream",
     "text": [
      "[ 0.4094146   0.05825927  0.00138731  0.43984414  0.00057926  0.09051541]\n",
      "[ 0.44088043  0.05413955  0.01696196  0.358506    0.01503966  0.11447239]\n",
      "[ 0.39441438  0.04339542  0.00914134  0.43815556  0.00483513  0.11005818]\n",
      "             precision    recall  f1-score   support\n",
      "\n",
      "          0       0.39      0.47      0.43      2007\n",
      "          1       0.50      0.53      0.51      2593\n",
      "          2       0.20      0.06      0.09       744\n",
      "\n",
      "avg / total       0.42      0.44      0.42      5344\n",
      "\n"
     ]
    }
   ],
   "source": [
    "all_predicts = []\n",
    "tests = []\n",
    "\n",
    "for train_index, test_index in kf.split(X):\n",
    "    X_train, X_test = X[train_index], X[test_index]\n",
    "    y_train, y_test = y[train_index], y[test_index]\n",
    "    \n",
    "    X_train_df = pd.DataFrame(X_train)\n",
    "    y_train_df = pd.DataFrame(y_train)\n",
    "    X_test_df = pd.DataFrame(X_test)\n",
    "    y_test_df = pd.DataFrame(y_test)\n",
    "    \n",
    "    X_train_df_DT = X_train_df.apply(le.fit_transform)\n",
    "    y_train_df_DT = y_train_df.apply(le.fit_transform)  \n",
    "    X_test_df_DT = X_test_df.apply(le.fit_transform)\n",
    "    y_test_df_DT = y_test_df.apply(le.fit_transform)\n",
    "    y_test_df_DT = y_test_df_DT[0].values.tolist()\n",
    "    \n",
    "    clf = clf.fit(X_train_df_DT, y_train_df_DT)\n",
    "    importances = clf.feature_importances_\n",
    "    print (importances)\n",
    "    \n",
    "    predictions = clf.predict(X_test_df_DT)\n",
    "    all_predicts.extend(predictions)\n",
    "    tests.extend(y_test_df_DT)\n",
    "    \n",
    "print(classification_report(tests, all_predicts))"
   ]
  },
  {
   "cell_type": "code",
   "execution_count": 10,
   "metadata": {
    "collapsed": true
   },
   "outputs": [],
   "source": [
    "vectors = []\n",
    "types = []\n",
    "\n",
    "for line in lines:\n",
    "    arr = []\n",
    "    line = line.strip(\"\\n\")\n",
    "    items = line.split(\"/\")\n",
    "    items_new = items[1:3] + [items[4]] + [items[7]]\n",
    "    for item in items_new:\n",
    "        arr.append(item)\n",
    "    types.append(items[-1])\n",
    "    vectors.append(arr)"
   ]
  },
  {
   "cell_type": "code",
   "execution_count": 11,
   "metadata": {},
   "outputs": [
    {
     "name": "stdout",
     "output_type": "stream",
     "text": [
      "[['Engel', '<NN>', 'Bild', 's'], ['Wolke', '<NN>', 'Schatten', 'n'], ['Sonne', '<NN>', 'Strahl', 'no']]\n"
     ]
    }
   ],
   "source": [
    "print (vectors[:3])"
   ]
  },
  {
   "cell_type": "code",
   "execution_count": 12,
   "metadata": {},
   "outputs": [
    {
     "data": {
      "text/plain": [
       "3"
      ]
     },
     "execution_count": 12,
     "metadata": {},
     "output_type": "execute_result"
    }
   ],
   "source": [
    "X = np.array(vectors)\n",
    "y = np.array(types)\n",
    "kf.get_n_splits(X)"
   ]
  },
  {
   "cell_type": "code",
   "execution_count": 13,
   "metadata": {},
   "outputs": [
    {
     "name": "stdout",
     "output_type": "stream",
     "text": [
      "[ 0.48739378  0.04944742  0.34265402  0.12050478]\n",
      "[ 0.44423949  0.06498001  0.39654963  0.09423087]\n",
      "[ 0.49536968  0.04570119  0.36210274  0.09682639]\n",
      "             precision    recall  f1-score   support\n",
      "\n",
      "          0       0.38      0.45      0.41      2007\n",
      "          1       0.49      0.52      0.50      2593\n",
      "          2       0.19      0.04      0.06       744\n",
      "\n",
      "avg / total       0.40      0.43      0.41      5344\n",
      "\n"
     ]
    }
   ],
   "source": [
    "all_predicts = []\n",
    "tests = []\n",
    "\n",
    "for train_index, test_index in kf.split(X):\n",
    "    X_train, X_test = X[train_index], X[test_index]\n",
    "    y_train, y_test = y[train_index], y[test_index]\n",
    "    \n",
    "    X_train_df = pd.DataFrame(X_train)\n",
    "    y_train_df = pd.DataFrame(y_train)\n",
    "    X_test_df = pd.DataFrame(X_test)\n",
    "    y_test_df = pd.DataFrame(y_test)\n",
    "    \n",
    "    X_train_df_DT = X_train_df.apply(le.fit_transform)\n",
    "    y_train_df_DT = y_train_df.apply(le.fit_transform)  \n",
    "    X_test_df_DT = X_test_df.apply(le.fit_transform)\n",
    "    y_test_df_DT = y_test_df.apply(le.fit_transform)\n",
    "    y_test_df_DT = y_test_df_DT[0].values.tolist()\n",
    "    \n",
    "    clf = clf.fit(X_train_df_DT, y_train_df_DT)\n",
    "    importances = clf.feature_importances_\n",
    "    print (importances)\n",
    "    \n",
    "    predictions = clf.predict(X_test_df_DT)\n",
    "    all_predicts.extend(predictions)\n",
    "    tests.extend(y_test_df_DT)\n",
    "    \n",
    "print(classification_report(tests, all_predicts))"
   ]
  }
 ],
 "metadata": {
  "kernelspec": {
   "display_name": "Python 3",
   "language": "python",
   "name": "python3"
  },
  "language_info": {
   "codemirror_mode": {
    "name": "ipython",
    "version": 3
   },
   "file_extension": ".py",
   "mimetype": "text/x-python",
   "name": "python",
   "nbconvert_exporter": "python",
   "pygments_lexer": "ipython3",
   "version": "3.6.1"
  }
 },
 "nbformat": 4,
 "nbformat_minor": 2
}
