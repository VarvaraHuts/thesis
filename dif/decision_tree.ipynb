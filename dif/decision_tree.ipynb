{
 "cells": [
  {
   "cell_type": "code",
   "execution_count": 1,
   "metadata": {
    "collapsed": true
   },
   "outputs": [],
   "source": [
    "import numpy as np\n",
    "import pandas as pd\n",
    "from sklearn.model_selection import KFold\n",
    "from sklearn import preprocessing\n",
    "from sklearn.tree import DecisionTreeClassifier\n",
    "from sklearn.metrics import classification_report"
   ]
  },
  {
   "cell_type": "code",
   "execution_count": 2,
   "metadata": {
    "collapsed": true
   },
   "outputs": [],
   "source": [
    "kf = KFold(n_splits=3, shuffle=True)\n",
    "le = preprocessing.LabelEncoder()\n",
    "clf = DecisionTreeClassifier()"
   ]
  },
  {
   "cell_type": "code",
   "execution_count": 3,
   "metadata": {
    "collapsed": true
   },
   "outputs": [],
   "source": [
    "file = open(\"C:/Users/1/Desktop/compounds_final.txt\", \"r\", encoding=\"utf-8\")\n",
    "lines = file.readlines()"
   ]
  },
  {
   "cell_type": "code",
   "execution_count": 4,
   "metadata": {
    "collapsed": true
   },
   "outputs": [],
   "source": [
    "vectors = []\n",
    "types = []\n",
    "\n",
    "for line in lines:\n",
    "    arr = []\n",
    "    line = line.strip(\"\\n\")\n",
    "    items = line.split(\"/\")\n",
    "    for item in items[1:8]:\n",
    "        arr.append(item)\n",
    "    types.append(items[-1])\n",
    "    vectors.append(arr)"
   ]
  },
  {
   "cell_type": "code",
   "execution_count": 5,
   "metadata": {},
   "outputs": [
    {
     "data": {
      "text/plain": [
       "3"
      ]
     },
     "execution_count": 5,
     "metadata": {},
     "output_type": "execute_result"
    }
   ],
   "source": [
    "X = np.array(vectors)\n",
    "y = np.array(types)\n",
    "kf.get_n_splits(X)"
   ]
  },
  {
   "cell_type": "code",
   "execution_count": 6,
   "metadata": {},
   "outputs": [
    {
     "name": "stdout",
     "output_type": "stream",
     "text": [
      "             precision    recall  f1-score   support\n",
      "\n",
      "          0       0.40      0.47      0.43      2007\n",
      "          1       0.51      0.44      0.47      2593\n",
      "          2       0.15      0.15      0.15       744\n",
      "\n",
      "avg / total       0.42      0.41      0.41      5344\n",
      "\n"
     ]
    }
   ],
   "source": [
    "all_predicts = []\n",
    "tests = []\n",
    "\n",
    "for train_index, test_index in kf.split(X):\n",
    "    X_train, X_test = X[train_index], X[test_index]\n",
    "    y_train, y_test = y[train_index], y[test_index]\n",
    "    \n",
    "    X_train_df = pd.DataFrame(X_train)\n",
    "    X_train_df_new = X_train_df.apply(le.fit_transform)\n",
    "    \n",
    "    y_train_df = pd.DataFrame(y_train)\n",
    "    y_train_df_new = y_train_df.apply(le.fit_transform)\n",
    "    \n",
    "    X_test_df = pd.DataFrame(X_test)\n",
    "    X_test_df_new = X_test_df.apply(le.fit_transform)\n",
    "    \n",
    "    y_test_df = pd.DataFrame(y_test)\n",
    "    y_test_df_new = y_test_df.apply(le.fit_transform)\n",
    "    y_test_df_new = y_test_df_new[0].values.tolist()\n",
    "    \n",
    "    clf = clf.fit(X_train_df_new, y_train_df_new)\n",
    "    predictions = clf.predict(X_test_df_new)\n",
    "    \n",
    "    all_predicts.extend(predictions)\n",
    "    tests.extend(y_test_df_new)\n",
    "    \n",
    "print(classification_report(tests, all_predicts))"
   ]
  }
 ],
 "metadata": {
  "kernelspec": {
   "display_name": "Python 3",
   "language": "python",
   "name": "python3"
  },
  "language_info": {
   "codemirror_mode": {
    "name": "ipython",
    "version": 3
   },
   "file_extension": ".py",
   "mimetype": "text/x-python",
   "name": "python",
   "nbconvert_exporter": "python",
   "pygments_lexer": "ipython3",
   "version": "3.6.1"
  }
 },
 "nbformat": 4,
 "nbformat_minor": 2
}
