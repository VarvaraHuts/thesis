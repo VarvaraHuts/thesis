{
 "cells": [
  {
   "cell_type": "code",
   "execution_count": 1,
   "metadata": {
    "collapsed": true
   },
   "outputs": [],
   "source": [
    "import operator\n",
    "import numpy as np\n",
    "from sklearn.model_selection import KFold"
   ]
  },
  {
   "cell_type": "code",
   "execution_count": 2,
   "metadata": {
    "collapsed": true
   },
   "outputs": [],
   "source": [
    "s = open(\"C:/Users/1/Desktop/alternative.txt\", \"r\", encoding=\"utf-8\")\n",
    "lines = s.readlines()"
   ]
  },
  {
   "cell_type": "code",
   "execution_count": 3,
   "metadata": {
    "collapsed": true
   },
   "outputs": [],
   "source": [
    "#with suffixes\n",
    "arr = []\n",
    "for i in range(len(lines)):\n",
    "    line = lines[i].strip(\"\\n\")\n",
    "    items = line.split(\"/\")\n",
    "    tl = []\n",
    "    for item in items[1:8]:\n",
    "        tl.append(item)\n",
    "    tl.append(items[-1])\n",
    "    tl = tuple(tl)\n",
    "    arr.append(tl)"
   ]
  },
  {
   "cell_type": "code",
   "execution_count": 4,
   "metadata": {
    "collapsed": true
   },
   "outputs": [],
   "source": [
    "dict1 = {z:arr.count(z) for z in arr}"
   ]
  },
  {
   "cell_type": "code",
   "execution_count": 5,
   "metadata": {
    "collapsed": true
   },
   "outputs": [],
   "source": [
    "dict2 = {}\n",
    "for k,v in dict1.items():\n",
    "    if (k[0], k[1], k[2], k[3], k[4], k[5], k[6]) not in dict2.keys():\n",
    "        dict2[(k[0], k[1], k[2], k[3], k[4], k[5], k[6])] = [(k[7], v)]\n",
    "    else:\n",
    "        dict2[(k[0], k[1], k[2], k[3], k[4], k[5], k[6])].append((k[7], v))"
   ]
  },
  {
   "cell_type": "code",
   "execution_count": 6,
   "metadata": {
    "collapsed": true
   },
   "outputs": [],
   "source": [
    "dict3 = {}\n",
    "for k,v in dict2.items():\n",
    "    all_count = 0\n",
    "    for x in v:\n",
    "        all_count += x[1]\n",
    "    dict3[k] = {'N': 0, 'NN' : 0, 'AN': 0}\n",
    "    for x in v:\n",
    "        dict3[k][x[0]] = x[1] / all_count"
   ]
  },
  {
   "cell_type": "code",
   "execution_count": 7,
   "metadata": {
    "collapsed": true
   },
   "outputs": [],
   "source": [
    "#distance between compound parts: not normalized\n",
    "def dist_not_norm(a,b):\n",
    "    string1 = a[::-1]\n",
    "    string2 = b[::-1]\n",
    "    distance = 0\n",
    "    n1 = len(string1)\n",
    "    n2 = len(string2)\n",
    "    if n1 >= n2:\n",
    "        for i in range(n1):\n",
    "            if i < n2:\n",
    "                if string1[i] == string2[i]:\n",
    "                    distance += 1\n",
    "                else:\n",
    "                    return distance\n",
    "        if distance == n1 and distance == n2:\n",
    "            return 0\n",
    "        else:\n",
    "            return distance\n",
    "    else:\n",
    "        for i in range(n2):\n",
    "            if i < n1:\n",
    "                if string2[i] == string1[i]:\n",
    "                    distance += 1\n",
    "                else:\n",
    "                    return distance\n",
    "        return distance"
   ]
  },
  {
   "cell_type": "code",
   "execution_count": 8,
   "metadata": {
    "collapsed": true
   },
   "outputs": [],
   "source": [
    "#distance between compound parts: normalized\n",
    "def dist_norm(a,b):\n",
    "    return 1-(dist_not_norm(a,b)/((len(a)+len(b))/2))"
   ]
  },
  {
   "cell_type": "code",
   "execution_count": 9,
   "metadata": {
    "collapsed": true
   },
   "outputs": [],
   "source": [
    "#general distance between vectors\n",
    "def all_dist(vector_1,vector_2):\n",
    "    cur_dist = 0\n",
    "    for i in range((len(vector_1))):\n",
    "        if i == 0 or i == 3:\n",
    "            ith_dist = dist_norm(vector_1[i], vector_2[i])\n",
    "            cur_dist += ith_dist * ith_dist\n",
    "        else:\n",
    "            if vector_1[i] != vector_2[i]:\n",
    "                cur_dist += 1\n",
    "    return cur_dist"
   ]
  },
  {
   "cell_type": "code",
   "execution_count": 10,
   "metadata": {
    "collapsed": true
   },
   "outputs": [],
   "source": [
    "matrixX = []\n",
    "matrixY = []\n",
    "for k,v in dict3.items():\n",
    "    matrixX.append(k)\n",
    "    matrixY.append([v['AN'], v['N'], v['NN']])"
   ]
  },
  {
   "cell_type": "code",
   "execution_count": 11,
   "metadata": {},
   "outputs": [
    {
     "data": {
      "text/plain": [
       "[('Engel', '<NN>', 'no', 'Bild', '<+NN>', 'no', 's'),\n",
       " ('Wolke', '<NN>', 'no', 'Schatten', '<+NN>', 'no', 'n'),\n",
       " ('Sonne', '<NN>', 'no', 'Strahl', '<+NN>', 'no', 'n')]"
      ]
     },
     "execution_count": 11,
     "metadata": {},
     "output_type": "execute_result"
    }
   ],
   "source": [
    "matrixX[:3]"
   ]
  },
  {
   "cell_type": "code",
   "execution_count": 12,
   "metadata": {},
   "outputs": [
    {
     "data": {
      "text/plain": [
       "[[0, 1.0, 0], [0, 0.5, 0.5], [0, 0, 1.0]]"
      ]
     },
     "execution_count": 12,
     "metadata": {},
     "output_type": "execute_result"
    }
   ],
   "source": [
    "matrixY[:3]"
   ]
  },
  {
   "cell_type": "code",
   "execution_count": 13,
   "metadata": {
    "collapsed": true
   },
   "outputs": [],
   "source": [
    "X = np.array(matrixX)\n",
    "y = np.array(matrixY)"
   ]
  },
  {
   "cell_type": "code",
   "execution_count": 14,
   "metadata": {
    "collapsed": true
   },
   "outputs": [],
   "source": [
    "kf = KFold(n_splits=3, shuffle=True)"
   ]
  },
  {
   "cell_type": "code",
   "execution_count": 15,
   "metadata": {},
   "outputs": [
    {
     "data": {
      "text/plain": [
       "3"
      ]
     },
     "execution_count": 15,
     "metadata": {},
     "output_type": "execute_result"
    }
   ],
   "source": [
    "kf.get_n_splits(X)"
   ]
  },
  {
   "cell_type": "code",
   "execution_count": 16,
   "metadata": {},
   "outputs": [
    {
     "name": "stdout",
     "output_type": "stream",
     "text": [
      "0.408200338113\n"
     ]
    }
   ],
   "source": [
    "acc_fin = []\n",
    "for train_index, test_index in kf.split(X):\n",
    "    X_train, X_test = X[train_index], X[test_index]\n",
    "    y_train, y_test = y[train_index], y[test_index]\n",
    "    res_all = 0\n",
    "    for i in range(len(X_test)):\n",
    "        distances = []\n",
    "        for x in range(len(X_train)):\n",
    "            distance = all_dist(X_train[x], X_test[i])\n",
    "            d_t = (distance, list(y_train[x]))\n",
    "            distances.append(d_t)\n",
    "        distances_sort = sorted(distances)\n",
    "        types_sort = np.array([0., 0., 0.])\n",
    "        for item in distances_sort[:3]:\n",
    "            types_sort += np.array(item[1])\n",
    "        mean = types_sort / 3\n",
    "        res = 0\n",
    "        for k in range(len(mean)):\n",
    "            res += min(mean[k], y_test[i][k])\n",
    "        res_all += res\n",
    "    acc = res_all/len(X_test)\n",
    "    acc_fin.append(acc)\n",
    "print (sum(acc_fin)/len(acc_fin))"
   ]
  }
 ],
 "metadata": {
  "kernelspec": {
   "display_name": "Python 3",
   "language": "python",
   "name": "python3"
  },
  "language_info": {
   "codemirror_mode": {
    "name": "ipython",
    "version": 3
   },
   "file_extension": ".py",
   "mimetype": "text/x-python",
   "name": "python",
   "nbconvert_exporter": "python",
   "pygments_lexer": "ipython3",
   "version": "3.6.1"
  }
 },
 "nbformat": 4,
 "nbformat_minor": 2
}
