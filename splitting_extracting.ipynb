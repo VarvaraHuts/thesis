{
 "cells": [
  {
   "cell_type": "code",
   "execution_count": 1,
   "metadata": {
    "collapsed": true
   },
   "outputs": [],
   "source": [
    "from iwnlp.iwnlp_wrapper import IWNLPWrapper\n",
    "import operator"
   ]
  },
  {
   "cell_type": "code",
   "execution_count": 2,
   "metadata": {
    "collapsed": true
   },
   "outputs": [],
   "source": [
    "lemmatizer = IWNLPWrapper(lemmatizer_path='C:/Users/1/Desktop/thesis/IWNLP.Lemmatizer_20170501.json')"
   ]
  },
  {
   "cell_type": "code",
   "execution_count": 3,
   "metadata": {
    "collapsed": true
   },
   "outputs": [],
   "source": [
    "def capitalize(word):\n",
    "    if len(word) > 1:\n",
    "        word = word[0].upper() + word[1:]\n",
    "    return word"
   ]
  },
  {
   "cell_type": "code",
   "execution_count": 4,
   "metadata": {
    "collapsed": true
   },
   "outputs": [],
   "source": [
    "def get_lemma(word):\n",
    "    lemma = lemmatizer.lemmatize_plain(word)\n",
    "    if lemma is None:\n",
    "        return capitalize(word)\n",
    "    else:\n",
    "        return capitalize(lemma[0])"
   ]
  },
  {
   "cell_type": "code",
   "execution_count": 5,
   "metadata": {
    "collapsed": true
   },
   "outputs": [],
   "source": [
    "file_words = open('C:/Users/1/Desktop/thesis/wortliste.txt', 'r', encoding='utf-8')\n",
    "lines_words = file_words.readlines()"
   ]
  },
  {
   "cell_type": "code",
   "execution_count": 6,
   "metadata": {
    "collapsed": true
   },
   "outputs": [],
   "source": [
    "dictionary = []\n",
    "for line in lines_words:\n",
    "    line_new = line.split(' ')\n",
    "    dictionary.append(capitalize(line_new[0]))"
   ]
  },
  {
   "cell_type": "code",
   "execution_count": 7,
   "metadata": {
    "collapsed": true
   },
   "outputs": [],
   "source": [
    "def in_dic(word):\n",
    "    if word in dictionary:\n",
    "        return True"
   ]
  },
  {
   "cell_type": "code",
   "execution_count": 8,
   "metadata": {
    "collapsed": true
   },
   "outputs": [],
   "source": [
    "def is_part(word):\n",
    "    if len(word) > 1 and in_dic(word) is True:\n",
    "        return True\n",
    "    if (word.endswith('n') or word.endswith('e') or word.endswith('s') or word.endswith('-')) and in_dic(word[:-1]):\n",
    "        return True\n",
    "    if (word.endswith('en') or word.endswith('er') or word.endswith('es')) and in_dic(word[:-2]):\n",
    "        return True"
   ]
  },
  {
   "cell_type": "code",
   "execution_count": 9,
   "metadata": {
    "collapsed": true
   },
   "outputs": [],
   "source": [
    "def choose_split(arr):\n",
    "    lens = []\n",
    "    for item in arr:\n",
    "        var_len = len(item[0] + item[1])\n",
    "        lens.append(var_len)\n",
    "    index, value = max(enumerate(lens), key=operator.itemgetter(1))\n",
    "    return arr[index]"
   ]
  },
  {
   "cell_type": "code",
   "execution_count": 10,
   "metadata": {
    "collapsed": true
   },
   "outputs": [],
   "source": [
    "def split(word):\n",
    "    max_ind = len(word)\n",
    "    splits = []\n",
    "    \n",
    "    for ind, char in enumerate(word):\n",
    "        left_compound = word[0:max_ind-ind]\n",
    "        right_compound = word[max_ind-ind:max_ind]\n",
    "        \n",
    "        if is_part(left_compound) and len(left_compound) != len(word):\n",
    "            right_compound_upper = capitalize(right_compound)\n",
    "            \n",
    "            if is_part(right_compound_upper):\n",
    "                if not in_dic(left_compound) and in_dic(left_compound[:-1]):\n",
    "                    splits.append([left_compound[:-1], right_compound_upper])\n",
    "                if not in_dic(left_compound) and in_dic(left_compound[:-2]):\n",
    "                    splits.append([left_compound[:-2], right_compound_upper])\n",
    "                if in_dic(left_compound):\n",
    "                    splits.append([left_compound, right_compound_upper])\n",
    "                 \n",
    "    if len(splits) > 1:\n",
    "        return choose_split(splits)\n",
    "    if len(splits) == 1:\n",
    "        return splits[0]\n",
    "    if splits == []:\n",
    "        return None"
   ]
  },
  {
   "cell_type": "code",
   "execution_count": 11,
   "metadata": {
    "collapsed": true
   },
   "outputs": [],
   "source": [
    "def split3(word):\n",
    "    max_ind = len(word)\n",
    "    \n",
    "    for ind1 in range(max_ind):\n",
    "        for ind2 in range(ind1, max_ind):\n",
    "            left = word[:ind1]\n",
    "            middle = word[ind1:ind2]\n",
    "            right = word[ind2:]\n",
    "            \n",
    "            if is_part(left):\n",
    "                middle_up = capitalize(middle)\n",
    "                right_up = capitalize(right)\n",
    "                \n",
    "                if is_part(middle_up) and is_part(right_up):\n",
    "                    if not in_dic(left) and in_dic(left[:-1]) and in_dic(middle_up):\n",
    "                        return (left[:-1], middle_up, right_up)\n",
    "                    if not in_dic(left) and in_dic(left[:-2]) and in_dic(middle_up):\n",
    "                        return (left[:-2], middle_up, right_up)  \n",
    "                    if in_dic(left) and not in_dic(middle_up) and in_dic(middle_up[:-1]):\n",
    "                        return (left, middle_up[:-1], right_up)\n",
    "                    if in_dic(left) and not in_dic(middle_up) and in_dic(middle_up[:-2]):\n",
    "                        return (left, middle_up[:-2], right_up)\n",
    "                    if in_dic(left) and in_dic(middle_up):\n",
    "                        return (left, middle_up, right_up)"
   ]
  },
  {
   "cell_type": "code",
   "execution_count": 12,
   "metadata": {
    "collapsed": true
   },
   "outputs": [],
   "source": [
    "s = open(\"C:/Users/1/Desktop/thesis/corpus_final/corpus_de.txt\", \"r\", encoding=\"utf-8\")"
   ]
  },
  {
   "cell_type": "code",
   "execution_count": 13,
   "metadata": {
    "collapsed": true
   },
   "outputs": [],
   "source": [
    "f = open(\"C:/Users/1/Desktop/thesis/corpus_final/corpus_de_splitted.txt\", \"w\", encoding=\"utf-8\")\n",
    "w = open(\"C:/Users/1/Desktop/thesis/corpus_final/compounds_extracted.txt\", \"w\", encoding=\"utf-8\")"
   ]
  },
  {
   "cell_type": "code",
   "execution_count": 14,
   "metadata": {},
   "outputs": [],
   "source": [
    "lines = s.readlines()\n",
    "lines_new = []\n",
    "\n",
    "for ind in range(len(lines)):\n",
    "    line_n = lines[ind].strip(\"\\n\")\n",
    "    tokens = line_n.split(\" \")\n",
    "    tokens_new = []\n",
    "    for token in tokens:\n",
    "        lem = get_lemma(token)\n",
    "        \n",
    "        if split(lem) and not split3(lem):\n",
    "            comp = split(lem)\n",
    "            tokens_new.extend([comp[0], comp[1]])\n",
    "            w.write(comp[0] + \"/\" + comp[1] + \"/\" + token + \"/\" + str(ind) + \"\\n\")\n",
    "            \n",
    "        if split3(lem) and not split(lem):\n",
    "            comp = split3(lem)\n",
    "            tokens_new.extend([comp[0], comp[1], comp[2]])\n",
    "            w.write(comp[0] + \"/\" + comp[1] + \"/\" + comp[2] + \"/\" + token + \"/\" + str(ind) + \"\\n\")\n",
    "            \n",
    "        if split(lem) and split3(lem):\n",
    "            comp = split(lem)\n",
    "            tokens_new.extend([comp[0], comp[1]])\n",
    "            w.write(comp[0] + \"/\" + comp[1] + \"/\" + token + \"/\" + str(ind) + \"\\n\")           \n",
    "            \n",
    "        if not split(lem) and not split3(lem):\n",
    "            tokens_new.append(token)\n",
    "            \n",
    "    line_new = \" \".join(tokens_new)\n",
    "    lines_new.append(line_new)\n",
    "w.close()\n",
    "\n",
    "for line in lines_new:\n",
    "    f.write(line+\"\\n\")\n",
    "f.close()"
   ]
  }
 ],
 "metadata": {
  "kernelspec": {
   "display_name": "Python 3",
   "language": "python",
   "name": "python3"
  },
  "language_info": {
   "codemirror_mode": {
    "name": "ipython",
    "version": 3
   },
   "file_extension": ".py",
   "mimetype": "text/x-python",
   "name": "python",
   "nbconvert_exporter": "python",
   "pygments_lexer": "ipython3",
   "version": "3.6.1"
  }
 },
 "nbformat": 4,
 "nbformat_minor": 2
}
